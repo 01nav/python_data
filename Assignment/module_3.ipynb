{
  "cells": [
    {
      "cell_type": "markdown",
      "metadata": {
        "id": "3AvGjm1R4KNl",
        "pycharm": {
          "name": "#%% md\n"
        }
      },
      "source": [
        "# Module 3"
      ]
    },
    {
      "cell_type": "markdown",
      "metadata": {
        "id": "jHRTbnkr4xO4",
        "pycharm": {
          "name": "#%% md\n"
        }
      },
      "source": [
        "### What is List? How will you reverse a list?"
      ]
    },
    {
      "cell_type": "markdown",
      "metadata": {
        "id": "4X4E4sG5_JOk",
        "pycharm": {
          "name": "#%% md\n"
        }
      },
      "source": [
        "List is a collection of item. We can store different datatype items in list. We can use reverse() method to reverse a list.  "
      ]
    },
    {
      "cell_type": "markdown",
      "metadata": {
        "id": "NncK9nQR44HH",
        "pycharm": {
          "name": "#%% md\n"
        }
      },
      "source": [
        "### How will you remove last object from a list?"
      ]
    },
    {
      "cell_type": "markdown",
      "metadata": {
        "id": "ZE_MzcuO_KG-",
        "pycharm": {
          "name": "#%% md\n"
        }
      },
      "source": [
        "we can use pop method to remove last object from list"
      ]
    },
    {
      "cell_type": "markdown",
      "metadata": {
        "id": "o3ALqGzE44xz",
        "pycharm": {
          "name": "#%% md\n"
        }
      },
      "source": [
        "### Suppose list1 is [2, 33, 222, 14, and 25], what is list1 [-1]?"
      ]
    },
    {
      "cell_type": "markdown",
      "metadata": {
        "id": "LXm0ma3l_MJW",
        "pycharm": {
          "name": "#%% md\n"
        }
      },
      "source": [
        "list1[-1] is 25."
      ]
    },
    {
      "cell_type": "markdown",
      "metadata": {
        "id": "PwqO7KwZ5BTy",
        "pycharm": {
          "name": "#%% md\n"
        }
      },
      "source": [
        "### Differentiate between append () and extend () methods?"
      ]
    },
    {
      "cell_type": "markdown",
      "metadata": {
        "id": "Ts_9AFao_NGv",
        "pycharm": {
          "name": "#%% md\n"
        }
      },
      "source": [
        "append() adds a single element to the end of the list. \n",
        "append(one_arg) takes a single element as argument.\n",
        "<pre>\n",
        "  <u>Ex:-</u>\n",
        "      l = [1,2,4,3]\n",
        "      l.append(10)  \n",
        "      output : [1,2,4,3,10]\n",
        "</pre>\n",
        "\n",
        "extend() can add multiple individual elements to the end of the list.\n",
        "extend(list/tuple/dict/sets/string) takes an iterable as argument (list, tuple, dictionaries, sets, strings).\n",
        "<pre>\n",
        "  <u>Ex:-</u>\n",
        "      l = [1,44,2,3]\n",
        "      l.extend([10,\"himal\",True,90])  \n",
        "      output : [1,44,2,3,10,\"himal\",True,90]\n",
        "</pre>"
      ]
    },
    {
      "cell_type": "markdown",
      "metadata": {
        "id": "smThwaoD5EVy",
        "pycharm": {
          "name": "#%% md\n"
        }
      },
      "source": [
        "### Write a Python function to get the largest number, smallest num and sum of all from a list."
      ]
    },
    {
      "cell_type": "code",
      "execution_count": null,
      "metadata": {
        "colab": {
          "base_uri": "https://localhost:8080/"
        },
        "id": "QsreOS22Iotp",
        "outputId": "09b010c2-2b18-4784-fd87-66eaaf638f24",
        "pycharm": {
          "name": "#%%\n"
        }
      },
      "outputs": [
        {
          "name": "stdout",
          "output_type": "stream",
          "text": [
            "Min number : 10\n",
            "Max number : 222\n",
            "Sum : 297\n"
          ]
        }
      ],
      "source": [
        "def min_max_sum(number):\n",
        "  print(\"Min number :\",min(number))\n",
        "  print(\"Max number :\",max(number))\n",
        "  sum = 0\n",
        "  for i in number:\n",
        "    sum += i\n",
        "  else:\n",
        "    print(\"Sum :\",sum)\n",
        "\n",
        "\n",
        "min_max_sum([20,10,33,222,12])"
      ]
    },
    {
      "cell_type": "markdown",
      "metadata": {
        "id": "YkUoZEIz5IZj",
        "pycharm": {
          "name": "#%% md\n"
        }
      },
      "source": [
        "### How will you compare two lists?"
      ]
    },
    {
      "cell_type": "markdown",
      "metadata": {
        "id": "oPSwS3LT_QBe",
        "pycharm": {
          "name": "#%% md\n"
        }
      },
      "source": [
        "First we need to sort both list by using sort() method so once both list are sorted then we can compare both list by \"==\" operator."
      ]
    },
    {
      "cell_type": "markdown",
      "metadata": {
        "id": "7hgXk2ZS5LZl",
        "pycharm": {
          "name": "#%% md\n"
        }
      },
      "source": [
        "### Write a Python program to count the number of strings where the string length is 2 or more and the first and last character are same from a given list of strings."
      ]
    },
    {
      "cell_type": "code",
      "execution_count": null,
      "metadata": {
        "colab": {
          "base_uri": "https://localhost:8080/"
        },
        "id": "_RBXPWFy_TUf",
        "outputId": "f637e1d4-6342-430d-b4d4-afdbcf8b237c",
        "pycharm": {
          "name": "#%%\n"
        }
      },
      "outputs": [
        {
          "name": "stdout",
          "output_type": "stream",
          "text": [
            "Enter string seperate by space : 12 23\n",
            "Total string : 0\n"
          ]
        }
      ],
      "source": [
        "def count_str(string):\n",
        "  string = string.split(\" \")\n",
        "  count = 0\n",
        "  for st in string:\n",
        "    if len(st) >= 2 and st[0] == st[-1]:\n",
        "      count += 1\n",
        "  return count\n",
        "str = input(\"Enter string seperate by space : \")\n",
        "print(\"Total string :\",count_str(str))"
      ]
    },
    {
      "cell_type": "markdown",
      "metadata": {
        "id": "4ioTV7mQ5w1z",
        "pycharm": {
          "name": "#%% md\n"
        }
      },
      "source": [
        "### Write a Python program to remove duplicates from a list."
      ]
    },
    {
      "cell_type": "code",
      "execution_count": 4,
      "metadata": {
        "id": "kOqr2QMp_UZs",
        "pycharm": {
          "name": "#%%\n"
        },
        "colab": {
          "base_uri": "https://localhost:8080/"
        },
        "outputId": "821676e7-8c73-4198-8ef9-4b795f960a78"
      },
      "outputs": [
        {
          "output_type": "stream",
          "name": "stdout",
          "text": [
            "{'abbc', 'abc', 'dc', 'da'}\n"
          ]
        }
      ],
      "source": [
        "mylist = [\"abc\", \"abbc\", \"da\", \"abbc\",\"dc\", \"dc\", \"abc\"]\n",
        "mylist = set(mylist)\n",
        "print(mylist)"
      ]
    },
    {
      "cell_type": "markdown",
      "metadata": {
        "id": "UgWcPGIq5_Za",
        "pycharm": {
          "name": "#%% md\n"
        }
      },
      "source": [
        "### Write a Python program to check a list is empty or not."
      ]
    },
    {
      "cell_type": "code",
      "execution_count": null,
      "metadata": {
        "colab": {
          "base_uri": "https://localhost:8080/"
        },
        "id": "tYkLMDAV_VPT",
        "outputId": "11d29c2e-c4f1-41ef-a0a8-b12690e0dddf",
        "pycharm": {
          "name": "#%%\n"
        }
      },
      "outputs": [
        {
          "name": "stdout",
          "output_type": "stream",
          "text": [
            "List is empty\n"
          ]
        }
      ],
      "source": [
        "def check_list(list1):\n",
        "  if len(list1) > 0 :\n",
        "    return \"List is not empty\"\n",
        "  else:\n",
        "    return \"List is empty\"\n",
        "\n",
        "print(check_list([]))"
      ]
    },
    {
      "cell_type": "markdown",
      "metadata": {
        "id": "YjugIzkS6DIp",
        "pycharm": {
          "name": "#%% md\n"
        }
      },
      "source": [
        "### Write a Python function that takes two lists and returns true if they have at least one common member."
      ]
    },
    {
      "cell_type": "code",
      "execution_count": null,
      "metadata": {
        "colab": {
          "base_uri": "https://localhost:8080/"
        },
        "id": "OKxEFNwa_XLP",
        "outputId": "23e113fb-d159-4076-f03d-c3b9a33245ae",
        "pycharm": {
          "name": "#%%\n"
        }
      },
      "outputs": [
        {
          "name": "stdout",
          "output_type": "stream",
          "text": [
            "Enter any string or number seperate by space : hi hi hi 1 2 3\n",
            "Enter any string or number seperate by space : 1 ahdoas\\\n",
            "True\n"
          ]
        }
      ],
      "source": [
        "l1 = input(\"Enter any string or number seperate by space : \")\n",
        "l2 = input(\"Enter any string or number seperate by space : \")\n",
        "for i in l1.split(\" \"):\n",
        "  if i in l2:\n",
        "    print(True)\n",
        "    break"
      ]
    },
    {
      "cell_type": "markdown",
      "metadata": {
        "id": "9vvy5qrO6Dg_",
        "pycharm": {
          "name": "#%% md\n"
        }
      },
      "source": [
        "### Write a Python program to generate and print a list of first and last 5 elements where the values are square of numbers between 1 and 30.\n"
      ]
    },
    {
      "cell_type": "code",
      "execution_count": null,
      "metadata": {
        "colab": {
          "base_uri": "https://localhost:8080/"
        },
        "id": "G5VUf1an_YWK",
        "outputId": "b707d32a-272b-4fb3-c7de-0f5987ed5b9a",
        "pycharm": {
          "name": "#%%\n"
        }
      },
      "outputs": [
        {
          "name": "stdout",
          "output_type": "stream",
          "text": [
            "[1, 4, 9, 16, 25]\n",
            "[676, 729, 784, 841, 900]\n"
          ]
        }
      ],
      "source": [
        "val_list = []\n",
        "for i in range(1,31):\n",
        "  val_list.append(i**2)\n",
        "else:\n",
        "  print(val_list[:5])\n",
        "  print(val_list[-5:])"
      ]
    },
    {
      "cell_type": "markdown",
      "metadata": {
        "id": "UDGHfrCU6EKw",
        "pycharm": {
          "name": "#%% md\n"
        }
      },
      "source": [
        "### Write a Python function that takes a list and returns a new list with unique elements of the first list."
      ]
    },
    {
      "cell_type": "code",
      "execution_count": null,
      "metadata": {
        "colab": {
          "base_uri": "https://localhost:8080/"
        },
        "id": "hilmpJDN_ZNj",
        "outputId": "175e5364-7d16-433c-f9f1-f2a70c2a9428",
        "pycharm": {
          "name": "#%%\n"
        }
      },
      "outputs": [
        {
          "name": "stdout",
          "output_type": "stream",
          "text": [
            "unique list : [2, 0, 20, 4, 3, 222]\n"
          ]
        }
      ],
      "source": [
        "def unique_list(l3):\n",
        "  unique_item = []\n",
        "  for elem in l3:\n",
        "    # if elem not in unique_item:\n",
        "    if l3.count(elem) == 1:\n",
        "      unique_item.append(elem)\n",
        "  return unique_item\n",
        "\n",
        "  # unique_item = {}\n",
        "  # unique_item = list(dict.fromkeys(l3))\n",
        "  # return unique_item\n",
        "\n",
        "print(\"unique list :\",unique_list([23,23,21,2,21,0,22,20,22,1,4,3,222,1]))"
      ]
    },
    {
      "cell_type": "markdown",
      "metadata": {
        "id": "WCFBDrd36EdW",
        "pycharm": {
          "name": "#%% md\n"
        }
      },
      "source": [
        "### Write a Python program to convert a list of characters into a string."
      ]
    },
    {
      "cell_type": "code",
      "execution_count": null,
      "metadata": {
        "colab": {
          "base_uri": "https://localhost:8080/"
        },
        "id": "KOwDr9MX_Z7G",
        "outputId": "e5f615ca-d862-4593-9b91-2f633bf4f29a",
        "pycharm": {
          "name": "#%%\n"
        }
      },
      "outputs": [
        {
          "name": "stdout",
          "output_type": "stream",
          "text": [
            "Enter character seperate by space : h i m a l\n",
            "himal\n"
          ]
        }
      ],
      "source": [
        "def con_str(list2):\n",
        "  str = \"\"\n",
        "  for i in list2:\n",
        "    str += i\n",
        "  return str\n",
        "\n",
        "strr = input(\"Enter character seperate by space : \")\n",
        "print(con_str(strr.split(\" \")))"
      ]
    },
    {
      "cell_type": "markdown",
      "metadata": {
        "id": "eGdfudek6E8B",
        "pycharm": {
          "name": "#%% md\n"
        }
      },
      "source": [
        "### Write a Python program to select an item randomly from a list."
      ]
    },
    {
      "cell_type": "code",
      "execution_count": null,
      "metadata": {
        "colab": {
          "base_uri": "https://localhost:8080/"
        },
        "id": "F57Y7ab__ae_",
        "outputId": "221b2979-635f-4f5e-db53-7a49b9359a33",
        "pycharm": {
          "name": "#%%\n"
        }
      },
      "outputs": [
        {
          "name": "stdout",
          "output_type": "stream",
          "text": [
            "10\n"
          ]
        }
      ],
      "source": [
        "import random\n",
        "list2 = [10,2,4,1,24,\"himal\"]\n",
        "ran_num = random.randint(0,len(list2)-1)\n",
        "print(list2[ran_num])"
      ]
    },
    {
      "cell_type": "markdown",
      "metadata": {
        "id": "RRTBTZkW6FQj",
        "pycharm": {
          "name": "#%% md\n"
        }
      },
      "source": [
        "### Write a Python program to find the second smallest number in a list."
      ]
    },
    {
      "cell_type": "code",
      "execution_count": null,
      "metadata": {
        "colab": {
          "base_uri": "https://localhost:8080/"
        },
        "id": "S-nfWeye_bDr",
        "outputId": "f748f6ee-0e8d-4a13-bd84-1699b093d4ee",
        "pycharm": {
          "name": "#%%\n"
        }
      },
      "outputs": [
        {
          "name": "stdout",
          "output_type": "stream",
          "text": [
            "Enter number seperate by space : 83 4 2 1 2 3\n",
            "Second smallest number : 2\n"
          ]
        }
      ],
      "source": [
        "n_list = input(\"Enter number seperate by space : \")\n",
        "n_list = n_list.split(\" \")\n",
        "sort_list = [int(n) for n in n_list]\n",
        "sort_list.sort()\n",
        "print(\"Second smallest number :\",sort_list[1])\n"
      ]
    },
    {
      "cell_type": "markdown",
      "metadata": {
        "id": "7HiLTFB76aqT",
        "pycharm": {
          "name": "#%% md\n"
        }
      },
      "source": [
        "### Write a Python program to get unique values from a list."
      ]
    },
    {
      "cell_type": "code",
      "execution_count": null,
      "metadata": {
        "colab": {
          "base_uri": "https://localhost:8080/"
        },
        "id": "r52OXRHY_boF",
        "outputId": "6735b8de-e0c6-4a84-bb41-09f3bdb44670",
        "pycharm": {
          "name": "#%%\n"
        }
      },
      "outputs": [
        {
          "name": "stdout",
          "output_type": "stream",
          "text": [
            "Enter any string/numbers : hi mal mal hi 1 2 3\n",
            "['1', '2', '3']\n"
          ]
        }
      ],
      "source": [
        "def unique_val(list3):\n",
        "  unique = []\n",
        "  for i in list3:\n",
        "    if list3.count(i) == 1:\n",
        "      unique.append(i)\n",
        "  return unique\n",
        "\n",
        "str = input(\"Enter any string/numbers : \")\n",
        "print(unique_val(str.split(\" \")))"
      ]
    },
    {
      "cell_type": "markdown",
      "metadata": {
        "id": "zM3P-vr96bGB",
        "pycharm": {
          "name": "#%% md\n"
        }
      },
      "source": [
        "### Write a Python program to check whether a list contains a sub list."
      ]
    },
    {
      "cell_type": "code",
      "execution_count": null,
      "metadata": {
        "colab": {
          "base_uri": "https://localhost:8080/"
        },
        "id": "ypd5614o_eep",
        "outputId": "c89e8816-f5a3-43df-fd28-3ca66a2e4b9e",
        "pycharm": {
          "name": "#%%\n"
        }
      },
      "outputs": [
        {
          "name": "stdout",
          "output_type": "stream",
          "text": [
            "Result : True\n"
          ]
        }
      ],
      "source": [
        "main_list = [3,\"himal\",2,\"lux\",3,\"himal2\",2,\"bapo\"]\n",
        "sub_list = [3,\"himal2\",2]\n",
        "\n",
        "result = False\n",
        "for i in range(len(main_list) - len(sub_list) + 1):\n",
        "  if main_list[i : i + len(sub_list)] == sub_list:\n",
        "    result = True\n",
        "    break\n",
        "print(\"Result :\",result)"
      ]
    },
    {
      "cell_type": "markdown",
      "metadata": {
        "id": "Vd7iCwIn6brt",
        "pycharm": {
          "name": "#%% md\n"
        }
      },
      "source": [
        "### Write a Python program to split a list into different variables."
      ]
    },
    {
      "cell_type": "code",
      "execution_count": null,
      "metadata": {
        "colab": {
          "base_uri": "https://localhost:8080/"
        },
        "id": "Briy7mqM_dj-",
        "outputId": "955a9a50-04b2-496b-d23b-156db03a1668",
        "pycharm": {
          "name": "#%%\n"
        }
      },
      "outputs": [
        {
          "name": "stdout",
          "output_type": "stream",
          "text": [
            "Enter any string/number : himalmevada123\n",
            "First String : himalme\n",
            "Second String : vada123\n"
          ]
        }
      ],
      "source": [
        "string = input(\"Enter any string/number : \")\n",
        "str_len = len(string) // 2\n",
        "st1 = string[:str_len]\n",
        "st2 = string[str_len:]\n",
        "print(\"First String :\",st1)\n",
        "print(\"Second String :\",st2)"
      ]
    },
    {
      "cell_type": "markdown",
      "metadata": {
        "id": "qM_0g0yq6cDR",
        "pycharm": {
          "name": "#%% md\n"
        }
      },
      "source": [
        "### What is tuple? Difference between list and tuple."
      ]
    },
    {
      "cell_type": "markdown",
      "metadata": {
        "id": "12LTnCD8_dCo",
        "pycharm": {
          "name": "#%% md\n"
        }
      },
      "source": [
        "In python tuple is data structure which is used store different types data as form of collection.\n",
        "<pre>\n",
        "Difference :-\n",
        "List is mutable, Tuple is immutable.\n",
        "List has many inbuilt method, Tuple has very less inbuilt method.\n",
        "List consume more memory but Tuple consume less memory as compared to List.\n",
        "</pre>"
      ]
    },
    {
      "cell_type": "markdown",
      "metadata": {
        "id": "MLCEqF-F6cYo",
        "pycharm": {
          "name": "#%% md\n"
        }
      },
      "source": [
        "### Write a Python program to create a tuple with different data types."
      ]
    },
    {
      "cell_type": "code",
      "execution_count": null,
      "metadata": {
        "colab": {
          "base_uri": "https://localhost:8080/"
        },
        "id": "esTPfBwa_gWL",
        "outputId": "2d2b20a5-331c-49c0-8e75-294432e78a8e",
        "pycharm": {
          "name": "#%%\n"
        }
      },
      "outputs": [
        {
          "name": "stdout",
          "output_type": "stream",
          "text": [
            "('himal', True, False, 0, 1, 33.5)\n"
          ]
        }
      ],
      "source": [
        "my_tuple = (\"himal\",True,False,0,1,33.5)\n",
        "print(my_tuple)"
      ]
    },
    {
      "cell_type": "markdown",
      "metadata": {
        "id": "_pq6PCpf6ct7",
        "pycharm": {
          "name": "#%% md\n"
        }
      },
      "source": [
        "### Write a Python program to create a tuple with numbers."
      ]
    },
    {
      "cell_type": "code",
      "execution_count": null,
      "metadata": {
        "id": "3PeRE5Cb_hij",
        "pycharm": {
          "name": "#%%\n"
        }
      },
      "outputs": [],
      "source": [
        "num_tuple = (22,1,2,3,4,34,3,123) "
      ]
    },
    {
      "cell_type": "markdown",
      "metadata": {
        "id": "ha-cdbUR6dDm",
        "pycharm": {
          "name": "#%% md\n"
        }
      },
      "source": [
        "### Write a Python program to convert a tuple to a string."
      ]
    },
    {
      "cell_type": "code",
      "execution_count": null,
      "metadata": {
        "colab": {
          "base_uri": "https://localhost:8080/"
        },
        "id": "5XrOrkvI_itA",
        "outputId": "77ad79d7-2a69-4702-9c50-183850613238",
        "pycharm": {
          "name": "#%%\n"
        }
      },
      "outputs": [
        {
          "name": "stdout",
          "output_type": "stream",
          "text": [
            "I am himal mevada\n"
          ]
        }
      ],
      "source": [
        "tuple_1 = (\"I\",\"am\",\"himal\",\"mevada\")\n",
        "# tup_c_list = list(tuple_1)\n",
        "tup_str = \"\"\n",
        "for i in tuple_1:\n",
        "  tup_str += f\"{i} \"\n",
        "else:\n",
        "  print(tup_str[:-1])"
      ]
    },
    {
      "cell_type": "markdown",
      "metadata": {
        "id": "Y7RUSM956w66",
        "pycharm": {
          "name": "#%% md\n"
        }
      },
      "source": [
        "### Write a Python program to check whether an element exists within a tuple."
      ]
    },
    {
      "cell_type": "code",
      "execution_count": null,
      "metadata": {
        "colab": {
          "base_uri": "https://localhost:8080/"
        },
        "id": "M8r3fLiU_jgg",
        "outputId": "2d3e0a6c-d9b6-4144-8735-216af1760c16",
        "pycharm": {
          "name": "#%%\n"
        }
      },
      "outputs": [
        {
          "name": "stdout",
          "output_type": "stream",
          "text": [
            "Enter any number by giving space : 12 32  24 34\n",
            "Enter element to find in tuple : 2\n",
            "Element not found.\n"
          ]
        }
      ],
      "source": [
        "tuple_exist = input(\"Enter any number by giving space : \")\n",
        "tuple_exist = tuple_exist.split(\" \")\n",
        "tuple_exist = tuple(tuple_exist)\n",
        "find_elem = input(\"Enter element to find in tuple : \")\n",
        "# for i in tuple_exist:\n",
        "if find_elem in tuple_exist:\n",
        "  print(\"Element found.\")\n",
        "else:\n",
        "  print(\"Element not found.\")"
      ]
    },
    {
      "cell_type": "markdown",
      "metadata": {
        "id": "lO9ny1Pe6xSO",
        "pycharm": {
          "name": "#%% md\n"
        }
      },
      "source": [
        "### Write a Python program to find the length of a tuple."
      ]
    },
    {
      "cell_type": "code",
      "execution_count": null,
      "metadata": {
        "colab": {
          "base_uri": "https://localhost:8080/"
        },
        "id": "LIRHrLas_kbV",
        "outputId": "81a0ac11-e905-4e5d-d582-e03b945b8b4c",
        "pycharm": {
          "name": "#%%\n"
        }
      },
      "outputs": [
        {
          "data": {
            "text/plain": [
              "7"
            ]
          },
          "execution_count": 222,
          "metadata": {},
          "output_type": "execute_result"
        }
      ],
      "source": [
        "new_tup = (\"himal\",True,0,1,45.45,False,\"end\")\n",
        "len(new_tup)"
      ]
    },
    {
      "cell_type": "markdown",
      "metadata": {
        "id": "9GCe06Hm6x0j",
        "pycharm": {
          "name": "#%% md\n"
        }
      },
      "source": [
        "### Write a Python program to convert a list to a tuple.\n"
      ]
    },
    {
      "cell_type": "code",
      "execution_count": null,
      "metadata": {
        "colab": {
          "base_uri": "https://localhost:8080/"
        },
        "id": "9by3QG8E_lD6",
        "outputId": "318606e2-cdc2-4a69-bc38-d04d2dcb1f41",
        "pycharm": {
          "name": "#%%\n"
        }
      },
      "outputs": [
        {
          "name": "stdout",
          "output_type": "stream",
          "text": [
            "('hii', 34, 34, 1, 1, 2, True, 'New')\n"
          ]
        }
      ],
      "source": [
        "my_li = [\"hii\",34,34,1,1,2,True,\"New\"]\n",
        "my_li = tuple(my_li)\n",
        "print(my_li)"
      ]
    },
    {
      "cell_type": "markdown",
      "metadata": {
        "id": "yN0QFT7Q6yI4",
        "pycharm": {
          "name": "#%% md\n"
        }
      },
      "source": [
        "### Write a Python program to reverse a tuple."
      ]
    },
    {
      "cell_type": "code",
      "execution_count": null,
      "metadata": {
        "colab": {
          "base_uri": "https://localhost:8080/"
        },
        "id": "zMOE67fN_ltz",
        "outputId": "1ec76b30-d559-4bda-ee17-cc4011355087",
        "pycharm": {
          "name": "#%%\n"
        }
      },
      "outputs": [
        {
          "name": "stdout",
          "output_type": "stream",
          "text": [
            "('this', 'is', 'reverse', 'tuple')\n",
            "('tuple', 'reverse', 'is', 'this')\n"
          ]
        }
      ],
      "source": [
        "rev_tup = ('tuple','reverse','is','this')\n",
        "# First Method :-\n",
        "tup_list = list(rev_tup)\n",
        "tup_list.reverse()\n",
        "rev_tup = tuple(tup_list)\n",
        "print(rev_tup) \n",
        "\n",
        "# Second Method :-\n",
        "tup = ()\n",
        "for i in range(len(rev_tup)-1,-1,-1):\n",
        "  tup += (rev_tup[i],)\n",
        "else:\n",
        "  print(tup)"
      ]
    },
    {
      "cell_type": "markdown",
      "metadata": {
        "id": "g755ZRO16yk_",
        "pycharm": {
          "name": "#%% md\n"
        }
      },
      "source": [
        "### Write a Python program to replace last value of tuples in a list."
      ]
    },
    {
      "cell_type": "code",
      "execution_count": null,
      "metadata": {
        "colab": {
          "base_uri": "https://localhost:8080/"
        },
        "id": "9PIAUg0w_rZn",
        "outputId": "48ac1320-b825-43df-cd32-897bea727497",
        "pycharm": {
          "name": "#%%\n"
        }
      },
      "outputs": [
        {
          "name": "stdout",
          "output_type": "stream",
          "text": [
            "(10, 20, 30, 40, 66, 100)\n",
            "(44, 50, 60, 100)\n",
            "(70, 80, 90, 55, 100)\n"
          ]
        }
      ],
      "source": [
        "l = [(10, 20, 30, 40, 66, 55), (44, 50, 60, 65), (70, 80, 90, 55, 9)]\n",
        "for i in l:\n",
        "    print(i[:-1] + (100,))\n",
        "    \n",
        "# print([item[:-1] + (100,) for item in l])"
      ]
    },
    {
      "cell_type": "markdown",
      "metadata": {
        "id": "O-K5BUxB7HMw",
        "pycharm": {
          "name": "#%% md\n"
        }
      },
      "source": [
        "### Write a Python program to find the repeated items of a tuple.\n"
      ]
    },
    {
      "cell_type": "code",
      "execution_count": null,
      "metadata": {
        "id": "no_4NBEb_sHJ",
        "outputId": "9ae22f9a-d51d-47c8-e91a-8f56b45477eb",
        "pycharm": {
          "name": "#%%\n"
        }
      },
      "outputs": [
        {
          "name": "stdout",
          "output_type": "stream",
          "text": [
            "(10, 30, 20)\n"
          ]
        }
      ],
      "source": [
        "number = (10, 10, 30, 30, 66, 55, 10, 20, 20)\n",
        "elem = ()\n",
        "for item in number:\n",
        "    if not item in elem and not number.count(item) == 1:\n",
        "        elem += (item,)\n",
        "else:\n",
        "    print(elem)"
      ]
    },
    {
      "cell_type": "markdown",
      "metadata": {
        "id": "ZxPmhUUM7Hrq",
        "pycharm": {
          "name": "#%% md\n"
        }
      },
      "source": [
        "### Write a Python program to remove an empty tuple(s) from a list of tuples."
      ]
    },
    {
      "cell_type": "code",
      "execution_count": null,
      "metadata": {
        "colab": {
          "base_uri": "https://localhost:8080/"
        },
        "id": "0ra_vT68_sph",
        "outputId": "90f9d3ed-5c49-4eb8-82af-e1268b397e37",
        "pycharm": {
          "name": "#%%\n"
        }
      },
      "outputs": [
        {
          "name": "stdout",
          "output_type": "stream",
          "text": [
            "[(22, 45, 67), (10, 20)]\n"
          ]
        }
      ],
      "source": [
        "t = [(),(22,45,67),(),(10,20),()]\n",
        "# print(len(t))\n",
        "for k in t:\n",
        "  if len(k) == 0:\n",
        "    t.remove(k)\n",
        "else:\n",
        "  print(t)"
      ]
    },
    {
      "cell_type": "markdown",
      "metadata": {
        "id": "j4Qp8uQ17ICP",
        "pycharm": {
          "name": "#%% md\n"
        }
      },
      "source": [
        "### Write a Python program to unzip a list of tuples into individual lists."
      ]
    },
    {
      "cell_type": "code",
      "execution_count": null,
      "metadata": {
        "colab": {
          "base_uri": "https://localhost:8080/"
        },
        "id": "2VCaVDPa_teB",
        "outputId": "55229ec6-eaa9-4ff0-8c34-0b7c90dda934",
        "pycharm": {
          "name": "#%%\n"
        }
      },
      "outputs": [
        {
          "name": "stdout",
          "output_type": "stream",
          "text": [
            "[(12, 21, 31), ('12', '21', '31')]\n"
          ]
        }
      ],
      "source": [
        "a = [(12,'12'),(21,'21'),(31,'31')]\n",
        "print(list(zip(*a)))"
      ]
    },
    {
      "cell_type": "markdown",
      "metadata": {
        "id": "pcWRLLBW7Rl5",
        "pycharm": {
          "name": "#%% md\n"
        }
      },
      "source": [
        "### Write a Python program to convert a list of tuples into a dictionary.\n"
      ]
    },
    {
      "cell_type": "code",
      "execution_count": null,
      "metadata": {
        "id": "myiY4XxF_uMV",
        "pycharm": {
          "name": "#%%\n"
        },
        "outputId": "16c56833-ff52-4a1d-c5cc-a124a6b2894f"
      },
      "outputs": [
        {
          "name": "stdout",
          "output_type": "stream",
          "text": [
            "{'this': None, True: None, 0: None, 234: None, 23: None, '5': None}\n"
          ]
        }
      ],
      "source": [
        "l1_tup = [(\"this\",True,0,1,234,23,1,\"5\")]\n",
        "for i in l1_tup:\n",
        "    dict_new = dict.fromkeys(i)\n",
        "print(dict_new)"
      ]
    },
    {
      "cell_type": "markdown",
      "metadata": {
        "id": "bYKiQ0MJ7SFA",
        "pycharm": {
          "name": "#%% md\n"
        }
      },
      "source": [
        "### How will you create a dictionary using tuples in python?"
      ]
    },
    {
      "cell_type": "markdown",
      "metadata": {
        "id": "wxIdH-WS_u-6",
        "pycharm": {
          "name": "#%% md\n"
        }
      },
      "source": [
        "we can use one method called \"dict.fromkeys(key=tuple,value)\"\n",
        "here dict.fromkeys method will create on dictonary and the parameter which we passed in this method will set all tuple items into keys of dictonary and one option parameter will set one common value to all keys of dictonary."
      ]
    },
    {
      "cell_type": "markdown",
      "metadata": {
        "id": "neBt80C47SgK",
        "pycharm": {
          "name": "#%% md\n"
        }
      },
      "source": [
        "### Write a Python script to sort (ascending and descending) a dictionary by value."
      ]
    },
    {
      "cell_type": "code",
      "execution_count": null,
      "metadata": {
        "id": "Us_9k8KZ_vz8",
        "pycharm": {
          "name": "#%%\n"
        },
        "outputId": "787ee013-be0a-4565-adff-7dcc016ced41"
      },
      "outputs": [
        {
          "name": "stdout",
          "output_type": "stream",
          "text": [
            "{'experience': 1, 'class': 3, 'name': 7, 'department': 10, 'is_gov': 20, 'staff': 40}\n",
            "{'staff': 40, 'is_gov': 20, 'department': 10, 'name': 7, 'class': 3, 'experience': 1}\n"
          ]
        }
      ],
      "source": [
        "mydict = {\"name\":7,\"class\":3,\"department\":10,\"experience\":1,\"is_gov\":20,\"staff\":40}\n",
        "asc_sort = {}\n",
        "desc_sort = {}\n",
        "val_asc_sort = sorted(mydict.values())\n",
        "val_desc_sort = sorted(mydict.values(),reverse=True)\n",
        "for i in val_asc_sort:\n",
        "    for j in mydict.keys():\n",
        "        if mydict[j] == i:\n",
        "            asc_sort[j] = mydict[j]\n",
        "            break\n",
        "else:\n",
        "    print(asc_sort)\n",
        "\n",
        "for i in val_desc_sort:\n",
        "    for j in mydict.keys():\n",
        "        if mydict[j] == i:\n",
        "            desc_sort[j] = mydict[j]\n",
        "            break\n",
        "else:\n",
        "    print(desc_sort)"
      ]
    },
    {
      "cell_type": "markdown",
      "metadata": {
        "id": "5SomGpPr7aJo",
        "pycharm": {
          "name": "#%% md\n"
        }
      },
      "source": [
        "### Write a Python script to concatenate following dictionaries to create a new one."
      ]
    },
    {
      "cell_type": "code",
      "execution_count": null,
      "metadata": {
        "id": "4rQMGS2C_wWg",
        "pycharm": {
          "name": "#%%\n"
        },
        "outputId": "463cca98-d4ba-4052-b926-5703a0cb36af"
      },
      "outputs": [
        {
          "name": "stdout",
          "output_type": "stream",
          "text": [
            "{'Name': 7, 'work': 2, 'city': 'ahmedabad', 'group': 443, 'class': 3, 'department': 10, 'experience': 1, 'is_gov': 20, 'staff': 40}\n"
          ]
        }
      ],
      "source": [
        "dict1 = {\"Name\":\"himal\",\"work\":2,\"city\":\"ahmedabad\",\"group\":443}\n",
        "dict2 = {\"Name\":7,\"class\":3,\"department\":10,\"experience\":1,\"is_gov\":20,\"staff\":40}\n",
        "new_dict = {}\n",
        "for d in (dict1,dict2):\n",
        "    new_dict.update(d)\n",
        "else:\n",
        "    print(new_dict)"
      ]
    },
    {
      "cell_type": "markdown",
      "metadata": {
        "id": "uJG-6F4V7n4R",
        "pycharm": {
          "name": "#%% md\n"
        }
      },
      "source": [
        "### Write a Python script to check if a given key already exists in a dictionary."
      ]
    },
    {
      "cell_type": "code",
      "execution_count": null,
      "metadata": {
        "id": "9NWv5sO9_xIy",
        "pycharm": {
          "name": "#%%\n"
        },
        "outputId": "b72afe6f-fa29-4ad8-998c-87e721ab2645"
      },
      "outputs": [
        {
          "name": "stdout",
          "output_type": "stream",
          "text": [
            "Key already exist in dictonary.\n"
          ]
        }
      ],
      "source": [
        "dict1 = {\"Name\":\"himal\",\"work\":2,\"city\":\"ahmedabad\",\"group\":443}\n",
        "find_key = \"work\"\n",
        "if find_key in dict1.keys():\n",
        "    print(\"Key already exist in dictonary.\")\n",
        "# ans = [i for i in dict1.keys() if find_key == i]\n",
        "# \"Key already exist in dictonary.\" if len(ans) == 1  else \"You can add this key.\""
      ]
    },
    {
      "cell_type": "markdown",
      "metadata": {
        "id": "ERot2ZU67oSw",
        "pycharm": {
          "name": "#%% md\n"
        }
      },
      "source": [
        "### How Do You Traverse Through A Dictionary Object In Python?"
      ]
    },
    {
      "cell_type": "markdown",
      "metadata": {
        "id": "eV3v2ZW0_xw4",
        "pycharm": {
          "name": "#%% md\n"
        }
      },
      "source": [
        "We have three different method to traverse dictonary object :\n",
        "1. Keys()\n",
        "2. Values()\n",
        "3. Items()"
      ]
    },
    {
      "cell_type": "markdown",
      "metadata": {
        "id": "eS1DdHNX7op1",
        "pycharm": {
          "name": "#%% md\n"
        }
      },
      "source": [
        "### How Do You Check The Presence Of A Key In A Dictionary?"
      ]
    },
    {
      "cell_type": "markdown",
      "metadata": {
        "id": "x2zQVC2J_yp2",
        "pycharm": {
          "name": "#%% md\n"
        }
      },
      "source": [
        "We can use dict1.keys() method using if statement with membership operator \"in\" like : \n",
        "EX -> if key is exist in dict.keys() in this case all dictionary keys are in dict.keys() and for key if this key is exist in dictionary then we can do some opertaion."
      ]
    },
    {
      "cell_type": "markdown",
      "metadata": {
        "id": "UNdUAhYc7zGc",
        "pycharm": {
          "name": "#%% md\n"
        }
      },
      "source": [
        "### Write a Python script to print a dictionary where the keys are numbers between 1 and 15."
      ]
    },
    {
      "cell_type": "code",
      "execution_count": 1,
      "metadata": {
        "id": "PXg4WuGN_zDC",
        "pycharm": {
          "name": "#%%\n"
        },
        "colab": {
          "base_uri": "https://localhost:8080/"
        },
        "outputId": "a57bb94a-a49b-4fb0-b7b2-10a41abe2ae3"
      },
      "outputs": [
        {
          "output_type": "stream",
          "name": "stdout",
          "text": [
            "{1: 2, 2: 4, 3: 6, 4: 8, 5: 10, 6: 12, 7: 14, 8: 16, 9: 18, 10: 20, 11: 22, 12: 24, 13: 26, 14: 28, 15: 30}\n"
          ]
        }
      ],
      "source": [
        "dict2 = dict()\n",
        "for i in range(1,16):\n",
        "    dict2.update({i:i*2})\n",
        "else:\n",
        "    print(dict2)"
      ]
    },
    {
      "cell_type": "markdown",
      "metadata": {
        "id": "otkX7RTy7108",
        "pycharm": {
          "name": "#%% md\n"
        }
      },
      "source": [
        "### Write a Python program to check multiple keys exists in a dictionary.\n"
      ]
    },
    {
      "cell_type": "code",
      "execution_count": null,
      "metadata": {
        "id": "FFvlvJ_K_znd",
        "pycharm": {
          "name": "#%%\n"
        },
        "outputId": "e7a255f2-1d8b-4e18-acf0-1c2ce3634dd5"
      },
      "outputs": [
        {
          "name": "stdout",
          "output_type": "stream",
          "text": [
            "True\n",
            "False\n"
          ]
        }
      ],
      "source": [
        "dict3 = {\"Name\":\"himal\",\"city\":\"ahmedabad\",\"class\":\"A\",\"class\":\"B\"}\n",
        "print(dict3.keys() >= {\"Name\",\"city\",\"class\"})\n",
        "print(dict3.keys() >= {\"Name\",\"city2\",\"class\"})"
      ]
    },
    {
      "cell_type": "markdown",
      "metadata": {
        "id": "hiaLII6Q73MO",
        "pycharm": {
          "name": "#%% md\n"
        }
      },
      "source": [
        "### Write a Python script to merge two Python dictionaries."
      ]
    },
    {
      "cell_type": "code",
      "execution_count": null,
      "metadata": {
        "id": "-cf3oX71_0fv",
        "pycharm": {
          "name": "#%%\n"
        },
        "outputId": "ab09b3f4-b68e-414e-eba1-a925abf95015"
      },
      "outputs": [
        {
          "name": "stdout",
          "output_type": "stream",
          "text": [
            "{'Name': 'himal23', 'work': 2, 'city': 'ahmedabad', 'group': 443, 'city2': 'baroda', 'class': 'B'}\n"
          ]
        }
      ],
      "source": [
        "dict1 = {\"Name\":\"himal\",\"work\":2,\"city\":\"ahmedabad\",\"group\":443}\n",
        "dict2 = {\"Name\":\"himal23\",\"city2\":\"baroda\",\"class\":\"B\"}\n",
        "dict1.update(dict2)\n",
        "print(dict1)"
      ]
    },
    {
      "cell_type": "markdown",
      "metadata": {
        "id": "HDlFd18P73Di",
        "pycharm": {
          "name": "#%% md\n"
        }
      },
      "source": [
        "### Write a Python program to map two lists into a dictionary."
      ]
    },
    {
      "cell_type": "code",
      "execution_count": null,
      "metadata": {
        "id": "qoMTosLM_1Bf",
        "pycharm": {
          "name": "#%%\n"
        },
        "outputId": "b7212062-4423-4cbe-9ce4-6af7bfc17f55"
      },
      "outputs": [
        {
          "name": "stdout",
          "output_type": "stream",
          "text": [
            "(('k1', 23), ('k2', 4), ('k3', 2), ('k4', 34))\n"
          ]
        }
      ],
      "source": [
        "l1 = [\"k1\",\"k2\",\"k3\",\"k4\"]\n",
        "l2 = [23,4,2,34]\n",
        "my_dic = tuple(zip(l1,l2))\n",
        "print(my_dic)\n",
        "# list(zip(*my_dic))"
      ]
    },
    {
      "cell_type": "markdown",
      "metadata": {
        "id": "UBn5BKS_726R",
        "pycharm": {
          "name": "#%% md\n"
        }
      },
      "source": [
        "### Write a Python program to combine two dictionary adding values for common keys.\n",
        "<pre>\n",
        "o d1 = {'a': 100, 'b': 200, 'c':300}\n",
        "o d2 = {'a': 300, 'b': 200,’d’:400}\n",
        "o Sample output: Counter ({'a': 400, 'b': 400, 'd': 400, 'c': 300}).\n",
        "</pre>"
      ]
    },
    {
      "cell_type": "code",
      "execution_count": null,
      "metadata": {
        "id": "DGlfjKsK_2LK",
        "pycharm": {
          "name": "#%%\n"
        },
        "outputId": "32da12e0-caa8-4482-ba2b-81082cc152a3"
      },
      "outputs": [
        {
          "name": "stdout",
          "output_type": "stream",
          "text": [
            "{'a': 400, 'b': 400, 'c': 300, 'd': 400}\n"
          ]
        }
      ],
      "source": [
        "d1 = {'a': 100, 'b': 200, 'c':300}\n",
        "d2 = {'a': 300, 'b': 200, 'd':400}\n",
        "d1.update(dict.fromkeys(d2,400))\n",
        "print(d1)"
      ]
    },
    {
      "cell_type": "markdown",
      "metadata": {
        "id": "6C17HrZr72wh",
        "pycharm": {
          "name": "#%% md\n"
        }
      },
      "source": [
        "### Write a Python program to print all unique values in a dictionary."
      ]
    },
    {
      "cell_type": "code",
      "execution_count": null,
      "metadata": {
        "id": "oxgiuUDS_2uz",
        "pycharm": {
          "name": "#%%\n"
        },
        "outputId": "a6f0194d-4b5b-4129-c4be-fcaf4951862d"
      },
      "outputs": [
        {
          "name": "stdout",
          "output_type": "stream",
          "text": [
            "vishesh\n",
            "jignesh\n",
            "himal\n",
            "jigar\n"
          ]
        }
      ],
      "source": [
        "l1 = {'first': 'himal','second': 'jigar','third': 'himal', 'fifth': 'vishesh' ,'six': 'jignesh'}\n",
        "for j in set(l1.values()):\n",
        "    print(j)"
      ]
    },
    {
      "cell_type": "markdown",
      "metadata": {
        "id": "P6IgvMWh72j2",
        "pycharm": {
          "name": "#%% md\n"
        }
      },
      "source": [
        "### Why Do You Use the Zip () Method in Python?"
      ]
    },
    {
      "cell_type": "markdown",
      "metadata": {
        "id": "rI2y3zRD_3K6",
        "pycharm": {
          "name": "#%% md\n"
        }
      },
      "source": [
        "The zip() function returns a zip object, which is an iterator of tuples where the first item in each passed iterator is paired together, and then the second item in each passed iterator are paired together etc.\n",
        "\n",
        "If the passed iterators have different lengths, the iterator with the least items decides the length of the new iterator."
      ]
    },
    {
      "cell_type": "markdown",
      "metadata": {
        "id": "h5QY5E_472O9",
        "pycharm": {
          "name": "#%% md\n"
        }
      },
      "source": [
        "### Write a Python program to create and display all combinations of letters, selecting each letter from a different key in a dictionary.\n",
        "<pre>\n",
        "o Sample data: {'1': ['a','b'], '2': ['c','d']}\n",
        "o Expected Output:\n",
        "o ac ad bc bd\n",
        "</pre>"
      ]
    },
    {
      "cell_type": "code",
      "execution_count": null,
      "metadata": {
        "id": "tqcSyiP-_425",
        "pycharm": {
          "name": "#%%\n"
        },
        "outputId": "75602561-63b0-458d-f54f-2623ae28b5a2"
      },
      "outputs": [
        {
          "name": "stdout",
          "output_type": "stream",
          "text": [
            "ac\n",
            "ad\n",
            "bc\n",
            "bd\n"
          ]
        }
      ],
      "source": [
        "data = {'1': ['a','b'], '2': ['c','d']}\n",
        "\n",
        "d = list(data.values())\n",
        "for i in d[0]:\n",
        "    for j in d[1]:\n",
        "        print(i+j)\n",
        "        \n",
        "\n",
        "# Second Method using itertools library\n",
        "# from itertools import product\n",
        "\n",
        "# for x, y in product(*data.values()):\n",
        "#     print(x + y)"
      ]
    },
    {
      "cell_type": "markdown",
      "metadata": {
        "id": "s1hrJ3Q89Ury",
        "pycharm": {
          "name": "#%% md\n"
        }
      },
      "source": [
        "### Write a Python program to find the highest 3 values in a dictionary."
      ]
    },
    {
      "cell_type": "code",
      "execution_count": null,
      "metadata": {
        "id": "6wBmPjby_5st",
        "pycharm": {
          "name": "#%%\n"
        },
        "outputId": "2d168c8a-f768-441e-a079-e67033681cd9"
      },
      "outputs": [
        {
          "name": "stdout",
          "output_type": "stream",
          "text": [
            "Highest three values :  [69, 67, 56]\n"
          ]
        }
      ],
      "source": [
        "my_dict = {'A': 67, 'B': 23, 'C': 45, 'D': 56, 'E': 12, 'F': 69}\n",
        "val = list(my_dict.values())\n",
        "s = sorted(val,reverse = True)\n",
        "print(\"Highest three values : \",s[0:3])"
      ]
    },
    {
      "cell_type": "markdown",
      "metadata": {
        "id": "UX4Ec1Jf9YUa",
        "pycharm": {
          "name": "#%% md\n"
        }
      },
      "source": [
        "### Write a Python program to combine values in python list of dictionaries.\n",
        "<pre>\n",
        "Sample data: [{'item': 'item1', 'amount': 400}, {'item': 'item2', 'amount': \n",
        "300},\n",
        "o {'item': 'item1', 'amount': 750}]\n",
        "o Expected Output: Counter ({'item1': 1150, 'item2': 300})\n",
        "</pre>"
      ]
    },
    {
      "cell_type": "code",
      "execution_count": null,
      "metadata": {
        "id": "zVJbYMIa_65v",
        "pycharm": {
          "name": "#%%\n"
        }
      },
      "outputs": [],
      "source": [
        "# Don't Know"
      ]
    },
    {
      "cell_type": "markdown",
      "metadata": {
        "id": "JcEVxwMi9zWw",
        "pycharm": {
          "name": "#%% md\n"
        }
      },
      "source": [
        "### Write a Python program to create a dictionary from a string.\n",
        "<pre>\n",
        "o Note: Track the count of the letters from the string. Sample string:\n",
        "'w3resource'\n",
        "o Expected output: {'3': 1,’s’: 1, 'r': 2, 'u': 1, 'w': 1, 'c': 1, 'e': 2, 'o': 1}\n",
        "</pre>"
      ]
    },
    {
      "cell_type": "code",
      "execution_count": null,
      "metadata": {
        "id": "v0prPsfv_7wr",
        "pycharm": {
          "name": "#%%\n"
        },
        "outputId": "da717722-4ee1-4be4-b66e-5a345b50dfd0"
      },
      "outputs": [
        {
          "name": "stdout",
          "output_type": "stream",
          "text": [
            "{'w': 1, '3': 1, 'r': 2, 'e': 2, 's': 1, 'o': 1, 'u': 1, 'c': 1}\n"
          ]
        }
      ],
      "source": [
        "s = 'w3resource'\n",
        "str_dict = dict()\n",
        "for i in s:\n",
        "    str_dict.update({i:s.count(i)})\n",
        "else:\n",
        "    print(str_dict)"
      ]
    },
    {
      "cell_type": "markdown",
      "metadata": {
        "id": "VQx_fEAg947k",
        "pycharm": {
          "name": "#%% md\n"
        }
      },
      "source": [
        "### Write a Python function to calculate the factorial of a number (a non-negative integer)."
      ]
    },
    {
      "cell_type": "code",
      "execution_count": null,
      "metadata": {
        "id": "GNB0Vsoz__zS",
        "pycharm": {
          "name": "#%%\n"
        },
        "outputId": "f7fa1470-39d8-497e-d6d4-96269dc698a3"
      },
      "outputs": [
        {
          "name": "stdout",
          "output_type": "stream",
          "text": [
            "Enter any number : 6\n",
            "720\n"
          ]
        }
      ],
      "source": [
        "from math import factorial\n",
        "n = input(\"Enter any number : \")\n",
        "n = int(n) if n.isnumeric() and int(n) > 0 else \"Please enter only non-negative integer.\"\n",
        "print(factorial(n))"
      ]
    },
    {
      "cell_type": "markdown",
      "metadata": {
        "id": "HsKjfWHG943C",
        "pycharm": {
          "name": "#%% md\n"
        }
      },
      "source": [
        "### Write a Python function to check whether a number is in a given range."
      ]
    },
    {
      "cell_type": "code",
      "execution_count": null,
      "metadata": {
        "id": "BxIaMxpQAAYw",
        "pycharm": {
          "name": "#%%\n"
        }
      },
      "outputs": [],
      "source": [
        "num = 4\n",
        "print(\"Number is in range.\" if num in range(3,7) else \"Number is not in range.\")"
      ]
    },
    {
      "cell_type": "markdown",
      "metadata": {
        "id": "H0I8kchD94zt",
        "pycharm": {
          "name": "#%% md\n"
        }
      },
      "source": [
        "### Write a Python function to check whether a number is perfect or not."
      ]
    },
    {
      "cell_type": "code",
      "execution_count": null,
      "metadata": {
        "id": "zWPBW5pBABDb",
        "pycharm": {
          "name": "#%%\n"
        }
      },
      "outputs": [],
      "source": [
        "num = 28\n",
        "sum = 0\n",
        "for i in range(1,num):\n",
        "    if num % i == 0:\n",
        "        sum += i\n",
        "print(\"Number is perfect.\" if sum == num else \"Number is not perfect.\")"
      ]
    },
    {
      "cell_type": "markdown",
      "metadata": {
        "id": "_tx2oZkl94tm",
        "pycharm": {
          "name": "#%% md\n"
        }
      },
      "source": [
        "### Write a Python function that checks whether a passed string is palindrome or not."
      ]
    },
    {
      "cell_type": "code",
      "execution_count": null,
      "metadata": {
        "id": "I2q-mD5fABkd",
        "pycharm": {
          "name": "#%%\n"
        },
        "outputId": "2bbc8ec8-e4ff-4c35-acc6-d728ebc1c7ec"
      },
      "outputs": [
        {
          "name": "stdout",
          "output_type": "stream",
          "text": [
            "String is palindrome\n"
          ]
        }
      ],
      "source": [
        "num = \"noabbaon\"\n",
        "main = [i for i in num]\n",
        "rev = list(reversed(num))\n",
        "print(\"String is palindrome\" if main == rev else \"String is not palindrome\")"
      ]
    },
    {
      "cell_type": "markdown",
      "metadata": {
        "id": "N3sNNtsU94oE",
        "pycharm": {
          "name": "#%% md\n"
        }
      },
      "source": [
        "### How do you perform pattern matching in Python? Explain"
      ]
    },
    {
      "cell_type": "markdown",
      "metadata": {
        "id": "3GdQuIujACLu",
        "pycharm": {
          "name": "#%% md\n"
        }
      },
      "source": [
        "We can use regular expression for matching patterns in python."
      ]
    },
    {
      "cell_type": "markdown",
      "metadata": {
        "id": "xos5zCJU94YX",
        "pycharm": {
          "name": "#%% md\n"
        }
      },
      "source": [
        "### What is lambda function in python? What we call a function which is incomplete version of a function?"
      ]
    },
    {
      "cell_type": "markdown",
      "metadata": {
        "id": "ik-LMiS4AD17",
        "pycharm": {
          "name": "#%% md\n"
        }
      },
      "source": [
        "Lambda function is basically one line of annonymous function which takes one or many arguments and have only one expression.\n",
        "That means if want to do sum of two number then we can write like that ->\n",
        "<pre>\n",
        "\"lambda x,y:x+y\".\n",
        "</pre>\n",
        "Yes, we can call a function which is incomplete version of a function if we have made stub function then and then only.\n",
        "If we are not sure to write function's block of statement then we can use \"pass\" keyword which is used a placeholder for a required statement\n",
        "<pre>\n",
        "Ex -> \n",
        "def funct1:\n",
        "    pass\n",
        "</pre>"
      ]
    },
    {
      "cell_type": "markdown",
      "metadata": {
        "id": "J4CMbmEc-bbf",
        "pycharm": {
          "name": "#%% md\n"
        }
      },
      "source": [
        "### How Many Basic Types Of Functions Are Available In Python?"
      ]
    },
    {
      "cell_type": "markdown",
      "metadata": {
        "id": "DcSEcRLWAFCZ",
        "pycharm": {
          "name": "#%% md\n"
        }
      },
      "source": [
        "In python we have two type of basic function.\n",
        "1) Inbulit function => count() , print(), type(), dir(), help()\n",
        "2) User define function => we can create our own function to perform some task."
      ]
    },
    {
      "cell_type": "markdown",
      "metadata": {
        "id": "ylYXMNZW-bT8",
        "pycharm": {
          "name": "#%% md\n"
        }
      },
      "source": [
        "### How can you pick a random item from a list or tuple?"
      ]
    },
    {
      "cell_type": "markdown",
      "metadata": {
        "id": "kAUYogutAIpe",
        "pycharm": {
          "name": "#%% md\n"
        }
      },
      "source": [
        "We can pick random item from a list or tuple by use of choice() and choices() methods.\n",
        "Choice() method allow us to get random list item from list but only one.\n",
        "<pre>\n",
        "Ex ->\n",
        "list = [\"Himal\",2321,\"Nobita\",True,\"Giyan\"]\n",
        "list_len = len(list)\n",
        "rand_choice = random.choice(list)\n",
        "print(rand_choice)\n",
        "</pre>\n",
        "But Choices() method allow us to get as many items from given list.\n",
        "It has two parameter first for iterable item and second \"K\" for howmany item you want to return from list.\n",
        "<pre>\n",
        "Ex ->\n",
        "random.choices(list2,k=2)\n",
        "</pre>"
      ]
    },
    {
      "cell_type": "markdown",
      "metadata": {
        "id": "2yrkdGhn-bQc",
        "pycharm": {
          "name": "#%% md\n"
        }
      },
      "source": [
        "### How can you pick a random item from a range?"
      ]
    },
    {
      "cell_type": "markdown",
      "metadata": {
        "id": "gzBos4ZWAJRi",
        "pycharm": {
          "name": "#%% md\n"
        }
      },
      "source": [
        "We can get random number by using random module.\n",
        "In random module we have randrange which takes starting and ending number of range and third one step which is optional.\n",
        "<pre>\n",
        "Ex-> \n",
        "list2 = [\"Himal\",2321,\"Nobita\",True,\"Giyan\"]\n",
        "print(list2[random.randrange(0,len(list))])\n",
        "print(list3[random.randrange(0,10)])\n",
        "</pre>"
      ]
    },
    {
      "cell_type": "markdown",
      "metadata": {
        "id": "55I3ShY8-bNG",
        "pycharm": {
          "name": "#%% md\n"
        }
      },
      "source": [
        "### How can you get a random number in python?"
      ]
    },
    {
      "cell_type": "markdown",
      "metadata": {
        "id": "OJSyhC02AJ6p",
        "pycharm": {
          "name": "#%% md\n"
        }
      },
      "source": [
        "We can get random number by using random module.\n",
        "In random module we have randint, random method.\n",
        "By using this method we can get random integer number.\n",
        "<pre>\n",
        "Ex -> \n",
        "print(random.random())\n",
        "print(random.randint(1,3))\n",
        "</pre>"
      ]
    },
    {
      "cell_type": "markdown",
      "metadata": {
        "id": "7YqSepBJ-bDM",
        "pycharm": {
          "name": "#%% md\n"
        }
      },
      "source": [
        "### How will you set the starting value in generating random numbers?"
      ]
    },
    {
      "cell_type": "markdown",
      "metadata": {
        "id": "quQ-BiouAdn1",
        "pycharm": {
          "name": "#%% md\n"
        }
      },
      "source": [
        "That depend on method if we are using random.random() method that return number from 0 to 1 decimal numbers.\n",
        "As well as if we use random.randint(\"optional\",10) then it is optional to give starting value if we don't specify then it will take starting value as \"0\".\n",
        "As well as if we use random.randrange(\"optional\",10) then it is optional to give starting value if we don't specify then it will take starting value as \"0\".\n",
        "That means it is depend on us and method that we have used."
      ]
    },
    {
      "cell_type": "markdown",
      "metadata": {
        "id": "GT10DBp7-arY",
        "pycharm": {
          "name": "#%% md\n"
        }
      },
      "source": [
        "### How will you randomizes the items of a list in place?"
      ]
    },
    {
      "cell_type": "markdown",
      "metadata": {
        "id": "9aJwA5N0AfDM",
        "pycharm": {
          "name": "#%% md\n"
        }
      },
      "source": [
        "In random module shuffle() methid helps us to reorganize the order of the items from list.\n",
        "It will not return new list instead of it will do all the changes in original list.\n",
        "<pre>\n",
        "EX -> \n",
        "list2 = [\"Himal\",2321,\"Nobita\",True,\"Giyan\"]\n",
        "rand_choice = random.shuffle(list2)\n",
        "print(list2)\n",
        "</pre>"
      ]
    },
    {
      "cell_type": "markdown",
      "metadata": {
        "id": "EkbAvUY3-uBs",
        "pycharm": {
          "name": "#%% md\n"
        }
      },
      "source": [
        "### Write a Python program to read a random line from a file."
      ]
    },
    {
      "cell_type": "code",
      "execution_count": null,
      "metadata": {
        "id": "nmSvy7xcAgLg",
        "pycharm": {
          "name": "#%%\n"
        },
        "outputId": "3e9d5e4f-8654-4e5f-bad0-e5d3f28b9e22"
      },
      "outputs": [
        {
          "name": "stdout",
          "output_type": "stream",
          "text": [
            "I am appending this new text last line.\t\n"
          ]
        }
      ],
      "source": [
        "import random\n",
        "f = open(\"himal.txt\")\n",
        "print(random.choice(f.readlines()))"
      ]
    },
    {
      "cell_type": "markdown",
      "metadata": {
        "id": "BRFHs8zt-t_q",
        "pycharm": {
          "name": "#%% md\n"
        }
      },
      "source": [
        "### Write a Python program to convert degree to radian."
      ]
    },
    {
      "cell_type": "code",
      "execution_count": null,
      "metadata": {
        "id": "zmnvPKtqAgoI",
        "pycharm": {
          "name": "#%%\n"
        },
        "outputId": "5f0af3ba-1e8b-4642-ff2f-94ec247e56bc"
      },
      "outputs": [
        {
          "name": "stdout",
          "output_type": "stream",
          "text": [
            "Enter degree to convert in radian : 1\n",
            "0.3490658503988659\n"
          ]
        }
      ],
      "source": [
        "import math\n",
        "num = input(\"Enter degree to convert in radian : \")\n",
        "if num.isnumeric():\n",
        "    num = int(num)\n",
        "    print(math.radians(20))\n",
        "else:\n",
        "    print(\"Enter only numbers.\")"
      ]
    },
    {
      "cell_type": "markdown",
      "metadata": {
        "id": "3tMk0EtO-t92",
        "pycharm": {
          "name": "#%% md\n"
        }
      },
      "source": [
        "### Write a Python program to calculate the area of a trapezoid."
      ]
    },
    {
      "cell_type": "code",
      "execution_count": null,
      "metadata": {
        "id": "Jran7IpdAhNJ",
        "pycharm": {
          "name": "#%%\n"
        },
        "outputId": "cdbe1dcb-2960-40d0-aa7e-2f8f73c4edf2"
      },
      "outputs": [
        {
          "name": "stdout",
          "output_type": "stream",
          "text": [
            "Enter base1 : 10\n",
            "Enter base2 : 10\n",
            "Enter height : 4\n",
            "Area of trapezoid : 40.0\n"
          ]
        }
      ],
      "source": [
        "import math\n",
        "base1 = input(\"Enter base1 : \")\n",
        "base2 = input(\"Enter base2 : \")\n",
        "height = input(\"Enter height : \")\n",
        "area = 0\n",
        "if base1.isnumeric() and base2.isnumeric() and height.isnumeric():\n",
        "    area = ((int(base1) + int(base2))/2) * int(height)\n",
        "    print(\"Area of trapezoid :\",area)\n",
        "else:\n",
        "    print(\"Enter only numbers.\")"
      ]
    },
    {
      "cell_type": "markdown",
      "metadata": {
        "id": "79uvJxSA-t6L",
        "pycharm": {
          "name": "#%% md\n"
        }
      },
      "source": [
        "### Write a Python program to calculate the area of a parallelogram."
      ]
    },
    {
      "cell_type": "code",
      "execution_count": null,
      "metadata": {
        "id": "NG8I65z9AjAG",
        "pycharm": {
          "name": "#%%\n"
        },
        "outputId": "bc79e8c5-66e5-4899-d8ab-cb109f46a763"
      },
      "outputs": [
        {
          "name": "stdout",
          "output_type": "stream",
          "text": [
            "Enter base : r\n",
            "Enter height : 4\n",
            "Enter only numbers.\n"
          ]
        }
      ],
      "source": [
        "import math\n",
        "area = 0\n",
        "base = input(\"Enter base : \")\n",
        "height = input(\"Enter height : \")\n",
        "if base.isnumeric() and height.isnumeric():\n",
        "    area = int(base2) * int(height)\n",
        "    print(\"Area of parallelogram :\",area)\n",
        "else:\n",
        "    print(\"Enter only numbers.\")"
      ]
    },
    {
      "cell_type": "markdown",
      "metadata": {
        "id": "V49TGyAL-t2H",
        "pycharm": {
          "name": "#%% md\n"
        }
      },
      "source": [
        "### Write a Python program to calculate surface volume and area of a cylinder."
      ]
    },
    {
      "cell_type": "code",
      "execution_count": null,
      "metadata": {
        "id": "x9fR7aIjAjkA",
        "pycharm": {
          "name": "#%%\n"
        },
        "outputId": "28ab7ac9-4ae9-4840-fbeb-af56c5abb59a"
      },
      "outputs": [
        {
          "name": "stdout",
          "output_type": "stream",
          "text": [
            "Enter radius : 3\n",
            "Enter height : 5\n",
            "Surface volume of cylinder : 141.3716694115407\n",
            "Surface area of cylinder : 150.79644737231007\n"
          ]
        }
      ],
      "source": [
        "import math\n",
        "sa = sv = 0\n",
        "r = input(\"Enter radius : \")\n",
        "h = input(\"Enter height : \")\n",
        "if r.isnumeric() and h.isnumeric():\n",
        "    r = int(r)\n",
        "    h = int(h)\n",
        "    sv = (math.pi * (r * r) * h)\n",
        "    sa = 2 * (math.pi * (r * r)) + 2 * (math.pi * r * h)\n",
        "    print(\"Surface volume of cylinder :\",sv)\n",
        "    print(\"Surface area of cylinder :\",sa)\n",
        "else:\n",
        "    print(\"Enter only numbers.\")"
      ]
    },
    {
      "cell_type": "markdown",
      "metadata": {
        "id": "DT85aEG1-tsH",
        "pycharm": {
          "name": "#%% md\n"
        }
      },
      "source": [
        "### Write a Python program to returns sum of all divisors of a number."
      ]
    },
    {
      "cell_type": "code",
      "execution_count": null,
      "metadata": {
        "id": "d-nu7I-TAj-k",
        "pycharm": {
          "name": "#%%\n"
        }
      },
      "outputs": [],
      "source": [
        "sum = 0\n",
        "num = 36\n",
        "for i in range(1,num):\n",
        "    sum += i if num % i == 0 else 0\n",
        "else:\n",
        "    print(sum)"
      ]
    },
    {
      "cell_type": "markdown",
      "metadata": {
        "id": "BoFjHz0r_DpY",
        "pycharm": {
          "name": "#%% md\n"
        }
      },
      "source": [
        "### Write a Python program to find the maximum and minimum numbers from the specified decimal numbers."
      ]
    },
    {
      "cell_type": "code",
      "execution_count": null,
      "metadata": {
        "id": "3AXK4YOgAkXg",
        "pycharm": {
          "name": "#%%\n"
        },
        "outputId": "d82a626e-37a5-4b11-b82b-311bcb387ec1"
      },
      "outputs": [
        {
          "name": "stdout",
          "output_type": "stream",
          "text": [
            "Maximum decimal number :  3.45\n",
            "Minimum decimal number :  54.55\n"
          ]
        }
      ],
      "source": [
        "num = [34.4, 5.4, 22.3, 3.45, 54.55]\n",
        "print(\"Maximum decimal number : \",min(num))\n",
        "print(\"Minimum decimal number : \",max(num))"
      ]
    }
  ],
  "metadata": {
    "colab": {
      "collapsed_sections": [],
      "name": "module_3.ipynb",
      "provenance": []
    },
    "kernelspec": {
      "display_name": "Python 3 (ipykernel)",
      "language": "python",
      "name": "python3"
    },
    "language_info": {
      "codemirror_mode": {
        "name": "ipython",
        "version": 3
      },
      "file_extension": ".py",
      "mimetype": "text/x-python",
      "name": "python",
      "nbconvert_exporter": "python",
      "pygments_lexer": "ipython3",
      "version": "3.9.12"
    }
  },
  "nbformat": 4,
  "nbformat_minor": 0
}