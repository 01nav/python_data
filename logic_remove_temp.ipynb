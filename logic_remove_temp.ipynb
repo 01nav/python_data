{
 "cells": [
  {
   "cell_type": "code",
   "execution_count": null,
   "metadata": {},
   "outputs": [],
   "source": [
    "%%writefile remove.py\n",
    "\n",
    "# for i in os.listdir():\n",
    "import os\n",
    "\n",
    "path = os.chdir(\"c:\\\\Windows\\\\Temp\")\n",
    "# path = os.chdir(\"c:\\\\Users\\\\mevad\\\\AppData\\\\Local\\\\Temp\")\n",
    "\n",
    "\n",
    "for i in os.scandir(path):\n",
    "    if i.is_file():\n",
    "        try:\n",
    "            os.remove(i)\n",
    "            print(f\"{i.name} has been removed\")\n",
    "        except Exception as err:\n",
    "            print('Error',err)\n",
    "    else:\n",
    "        if i.is_dir():\n",
    "            try:\n",
    "                os.rmdir(i)\n",
    "                print(f\"{i.name} has been removed\")\n",
    "            except Exception as err:\n",
    "                print('Error',err)"
   ]
  }
 ],
 "metadata": {
  "language_info": {
   "name": "python"
  },
  "orig_nbformat": 4
 },
 "nbformat": 4,
 "nbformat_minor": 2
}
