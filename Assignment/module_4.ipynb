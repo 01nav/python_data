{
 "cells": [
  {
   "cell_type": "markdown",
   "metadata": {
    "id": "wSMoKYJC6YOc"
   },
   "source": [
    "# Module 4"
   ]
  },
  {
   "cell_type": "markdown",
   "metadata": {
    "id": "SqiXWJGm6e3J"
   },
   "source": [
    "### What is File function in python? What is keywords to create and write file."
   ]
  },
  {
   "cell_type": "markdown",
   "metadata": {
    "id": "2PZ6qKQfppZ-"
   },
   "source": [
    "<pre>\n",
    "In python file function gives functionality to create, read, update and delete files.\n",
    "\n",
    "To create a new file in Python, use the open() method, with one of the following parameters:\n",
    " \"x\" - Create - will create a file, returns an error if the file exist\n",
    " \"a\" - Append - will create a file if the specified file does not exist\n",
    " \"w\" - Write - will create a file if the specified file does not exist\n",
    "\n",
    "Python has some inbuilt function to write file.\n",
    "we have write() and writeline([]) function.\n",
    "Write(\"str\") only takes string and writelines([list]) takes list.\n",
    "If we want to write in file we can use \"w\" write mode, it will only write new content our old content from file will be removed.\n",
    "If we are using \"a\" append mode then our old content will not going to be removed. This function will append data after the old data.\n",
    "</pre>"
   ]
  },
  {
   "cell_type": "markdown",
   "metadata": {
    "id": "StTgdApK6iy1"
   },
   "source": [
    "### Write a Python program to read an entire text file."
   ]
  },
  {
   "cell_type": "code",
   "execution_count": 2,
   "metadata": {
    "id": "o3nRsPh_wFWC"
   },
   "outputs": [
    {
     "name": "stdout",
     "output_type": "stream",
     "text": [
      "hii there i am himal mevada.\n"
     ]
    }
   ],
   "source": [
    "f = open(\"data.txt\",\"r\")\n",
    "print(f.read())\n",
    "f.close()"
   ]
  },
  {
   "cell_type": "markdown",
   "metadata": {
    "id": "xogcX9Ti6iwS"
   },
   "source": [
    "### Write a Python program to append text to a file and display the text."
   ]
  },
  {
   "cell_type": "code",
   "execution_count": 11,
   "metadata": {
    "id": "oT1Lu1EKwF-1"
   },
   "outputs": [
    {
     "name": "stdout",
     "output_type": "stream",
     "text": [
      "['hii there i am himal mevada.\\n', 'This is append text.\\n', 'This is append text.']\n"
     ]
    }
   ],
   "source": [
    "f = open(\"data.txt\",\"a+\")\n",
    "f.write(\"\\nThis is append text.\")\n",
    "f.seek(0)\n",
    "print(f.readlines())\n",
    "f.close()"
   ]
  },
  {
   "cell_type": "markdown",
   "metadata": {
    "id": "9cF6NmM4rcdM"
   },
   "source": [
    "### Write a Python program to read first n lines of a file."
   ]
  },
  {
   "cell_type": "code",
   "execution_count": 12,
   "metadata": {
    "id": "DsZ8NZ11wGts"
   },
   "outputs": [
    {
     "name": "stdout",
     "output_type": "stream",
     "text": [
      "hii there i am himal mevada.\n",
      "\n"
     ]
    }
   ],
   "source": [
    "f = open(\"data.txt\",\"r\")\n",
    "print(f.readline())\n",
    "f.close()"
   ]
  },
  {
   "cell_type": "markdown",
   "metadata": {
    "id": "G-iBAkTH6itZ"
   },
   "source": [
    "### Write a Python program to read last n lines of a file."
   ]
  },
  {
   "cell_type": "code",
   "execution_count": 18,
   "metadata": {
    "id": "n-uVf3nJwIAb"
   },
   "outputs": [
    {
     "name": "stdout",
     "output_type": "stream",
     "text": [
      "This is last line.\n"
     ]
    }
   ],
   "source": [
    "f = open(\"data.txt\",\"r\")\n",
    "d = f.readlines()\n",
    "print(d[-1])\n",
    "f.close()"
   ]
  },
  {
   "cell_type": "markdown",
   "metadata": {
    "id": "retGCR-p6inz"
   },
   "source": [
    "### Write a Python program to read a file line by line and store it into a list."
   ]
  },
  {
   "cell_type": "code",
   "execution_count": 20,
   "metadata": {
    "id": "aj-yFOv8wIm-"
   },
   "outputs": [
    {
     "name": "stdout",
     "output_type": "stream",
     "text": [
      "hii there i am himal mevada.\n",
      "This is append text.\n",
      "This is append text.\n",
      "This is last line."
     ]
    }
   ],
   "source": [
    "f = open(\"data.txt\",\"r\")\n",
    "for line in f.readlines():\n",
    "    print(line,end=\"\")\n",
    "f.close()"
   ]
  },
  {
   "cell_type": "markdown",
   "metadata": {
    "id": "yzFHDFX76ikZ"
   },
   "source": [
    "### Write a Python program to read a file line by line store it into a variable."
   ]
  },
  {
   "cell_type": "code",
   "execution_count": 49,
   "metadata": {
    "id": "V8WA77MDwJPB"
   },
   "outputs": [
    {
     "name": "stdout",
     "output_type": "stream",
     "text": [
      "['hii there i am himal mevada.\\n', 'This is append text.\\n', 'This is append text.\\n', 'This is last line.This is writeline.']\n"
     ]
    }
   ],
   "source": [
    "f = open(\"data.txt\",\"r\")\n",
    "z = []\n",
    "data = f.readlines()\n",
    "for line in data:\n",
    "    z.append(line)\n",
    "f.close()\n",
    "print(z)"
   ]
  },
  {
   "cell_type": "markdown",
   "metadata": {
    "id": "hWk5jPDD6iee"
   },
   "source": [
    "### Write a python program to find the longest words."
   ]
  },
  {
   "cell_type": "code",
   "execution_count": 51,
   "metadata": {
    "id": "aUu7xJo1wJ9k"
   },
   "outputs": [
    {
     "name": "stdout",
     "output_type": "stream",
     "text": [
      "writeline\n"
     ]
    }
   ],
   "source": [
    "def find_len(new_data):\n",
    "    max_word = new_data[0]\n",
    "    for i in range(0,len(new_data)):\n",
    "        if len(new_data[i]) > len(max_word):\n",
    "            max_word = new_data[i]\n",
    "    else:\n",
    "        print(max_word)\n",
    "\n",
    "f = open(\"data2.txt\",\"r\")\n",
    "data = f.read()\n",
    "sp_data = data.splitlines()\n",
    "new_data = []\n",
    "for li_data in sp_data:\n",
    "    for i in li_data.split(\" \"):\n",
    "        if \".\" in i:\n",
    "            i = i[:-1]\n",
    "        new_data.append(i)\n",
    "\n",
    "find_len(new_data)\n",
    "f.close()"
   ]
  },
  {
   "cell_type": "markdown",
   "metadata": {
    "id": "g37yFpVD6ibE"
   },
   "source": [
    "### Write a Python program to count the number of lines in a text file."
   ]
  },
  {
   "cell_type": "code",
   "execution_count": 106,
   "metadata": {
    "id": "kq8SJwSOwK1A"
   },
   "outputs": [
    {
     "name": "stdout",
     "output_type": "stream",
     "text": [
      "Total line :  4\n"
     ]
    }
   ],
   "source": [
    "f = open(\"data.txt\",\"r\")\n",
    "count = 0\n",
    "for i in f.readlines():\n",
    "    count += 1\n",
    "print(\"Total line : \",count)\n",
    "f.close()"
   ]
  },
  {
   "cell_type": "markdown",
   "metadata": {
    "id": "14K8wqET6iOz"
   },
   "source": [
    "### Write a Python program to count the frequency of words in a file."
   ]
  },
  {
   "cell_type": "code",
   "execution_count": 29,
   "metadata": {
    "id": "YjQZGX0bwLbg"
   },
   "outputs": [
    {
     "name": "stdout",
     "output_type": "stream",
     "text": [
      "{'hii': 1, 'there': 1, 'i': 1, 'am': 1, 'himal': 1, 'mevada': 1, 'This': 3, 'is': 4, 'append': 2, 'text': 2, 'last': 1, 'line.Thi': 1, 'writeline': 1}\n"
     ]
    }
   ],
   "source": [
    "f = open(\"data2.txt\",\"r\")\n",
    "data = f.read()\n",
    "sp_data = data.splitlines()\n",
    "new_data = []\n",
    "for li_data in sp_data:\n",
    "    for i in li_data.split(\" \"):\n",
    "        if \".\" in i:\n",
    "            i = i[:-1]\n",
    "        new_data.append(i)\n",
    "freq = list(map(new_data.count,new_data))\n",
    "di = dict()\n",
    "for i in range(0,len(new_data)):\n",
    "    di.update({new_data[i]:freq[i]})\n",
    "else:\n",
    "    print(di)\n",
    "f.close()"
   ]
  },
  {
   "cell_type": "markdown",
   "metadata": {
    "id": "HuakW6ei6iD0"
   },
   "source": [
    "### Write a Python program to write a list to a file."
   ]
  },
  {
   "cell_type": "code",
   "execution_count": 127,
   "metadata": {
    "id": "DPuDcKa8wMHf"
   },
   "outputs": [],
   "source": [
    "f = open(\"data.txt\",\"a\")\n",
    "f.writelines([\"This is writeline.\"])\n",
    "f.close()"
   ]
  },
  {
   "cell_type": "markdown",
   "metadata": {
    "id": "pKzB2RTH7BUb"
   },
   "source": [
    "### Write a Python program to copy the contents of a file to another file."
   ]
  },
  {
   "cell_type": "code",
   "execution_count": 130,
   "metadata": {
    "id": "BpaZblO0wM35"
   },
   "outputs": [],
   "source": [
    "f = open(\"data.txt\",\"r\")\n",
    "data = f.readlines()\n",
    "f.close()\n",
    "\n",
    "f2 = open(\"data2.txt\",\"a+\")\n",
    "f2.writelines(data)\n",
    "f2.close()"
   ]
  },
  {
   "cell_type": "markdown",
   "metadata": {
    "id": "Ta93txkQvNlP"
   },
   "source": [
    "### Explain Exception handling? What is an Error in Python?"
   ]
  },
  {
   "cell_type": "markdown",
   "metadata": {
    "id": "ZCVXL1w-wNqo"
   },
   "source": [
    "#### In python exception triggers automatically on errors.\n",
    "#### Python generate exceptions which can be handle , which avoid our program to crash.\n",
    "#### Exception is occured by program itself and this only happend during the execution of program.\n",
    "\n",
    "#### Error are always generate during the compilation of program.\n",
    "#### Error are system generated so it can not be handled."
   ]
  },
  {
   "cell_type": "markdown",
   "metadata": {
    "id": "Px6NJ32-vNhv"
   },
   "source": [
    "### How many except statements can a try-except block have? Name Some built-in exception classes:"
   ]
  },
  {
   "cell_type": "markdown",
   "metadata": {
    "id": "2mPJNnKJwOXa"
   },
   "source": [
    "#### One except statement can a try-except block have more than zero or ateast one except statement.\n",
    "### Built-in Exceptions in Python\n",
    "#### AssertionError - Raised when assert statement fails.\n",
    "#### AttributeError - Raised when attribute assignment or reference fails.\n",
    "#### EOFError - Raised when the input() functions hits end-of-file condition.\n",
    "#### FloatingPointError - Raised when a floating point operation fails.\n",
    "#### GeneratorExit - Raise when a generator's close() method is called.\n",
    "#### ImportError - Raised when the imported module is not found\n",
    "#### IndexError - Raised when index of a sequence is out of range.\n",
    "#### KeyError - Raised when a key is not found in a dictionary.\n",
    "#### KeyboardInterrupt - Raised when the user hits interrupt key (Ctrl+c or delete)\n",
    "#### MemoryError - Raised when an operation runs out of memory.\n",
    "#### NameError - Raised when a variable is not found in local or global scope.\n",
    "#### NotImplementedError - Raised by abstract methods.\n",
    "#### OSError - Raised when system operation causes system related error.\n",
    "#### OverflowError - Raised when result of an arithmetic operation is too large to be represented.\n",
    "#### ReferenceError - Raised when a weak reference proxy is used to access a garbage collected referent.\n",
    "#### RuntimeError - Raised when an error does not fall under any other category.\n",
    "#### StopIteration - Raised by next() function to indicate that there is no further item to be returned by iterator.\n",
    "#### SyntaxError - Raised by parser when syntax error is encountered.\n",
    "#### IndentationError - Raised when there is incorrect indentation.\n",
    "#### TabError - Raised when indentation consists of inconsistent tabs and spaces.\n",
    "#### SystemError - Raised when interpreter detects internal error.\n",
    "#### SystemExit - Raised by sys.exit() function.\n",
    "#### TypeError - Raised when a function or operation is applied to an - object of incorrect type.\n",
    "#### UnboundLocalError - Raised when a reference is made to a local variable in a function or method, but no value has been bound to that variable.\n",
    "#### UnicodeError - Raised when a Unicode-related encoding or decoding error occurs.\n",
    "#### UnicodeEncodeError - Raised when a Unicode-related error occurs during encoding.\n",
    "#### UnicodeDecodeError - Raised when a Unicode-related error occurs during decoding.\n",
    "#### UnicodeTranslateError - Raised when a Unicode-related error occurs during translating.\n",
    "#### ValueError - Raised when a function gets argument of correct type but improper value.\n",
    "#### ZeroDivisionError - Raised when second operand of division or modulo operation is zero."
   ]
  },
  {
   "cell_type": "markdown",
   "metadata": {
    "id": "cHI9ddgUvNfz"
   },
   "source": [
    "### When will the else part of try-except-else be executed?"
   ]
  },
  {
   "cell_type": "markdown",
   "metadata": {
    "id": "3TjZnbGzwPEJ",
    "tags": []
   },
   "source": [
    "#### if there is no exception occur then else part will be executed."
   ]
  },
  {
   "cell_type": "markdown",
   "metadata": {
    "id": "uZaJSJFVvNdH"
   },
   "source": [
    "### Can one block of except statements handle multiple exception?"
   ]
  },
  {
   "cell_type": "markdown",
   "metadata": {
    "id": "c0PjMad0wPsm"
   },
   "source": [
    "#### Yes, one block of except statements can handle multiple exception."
   ]
  },
  {
   "cell_type": "markdown",
   "metadata": {
    "id": "qdOWCuEvvNQx"
   },
   "source": [
    "### When is the finally block executed?"
   ]
  },
  {
   "cell_type": "markdown",
   "metadata": {
    "id": "eOrwo0w8wQGy"
   },
   "source": [
    "#### In python exception finally block will always execute no matter exception occur or not."
   ]
  },
  {
   "cell_type": "markdown",
   "metadata": {
    "id": "zW4AUZWTvbFL"
   },
   "source": [
    "### What happens when „1‟== 1 is executed?\n"
   ]
  },
  {
   "cell_type": "markdown",
   "metadata": {
    "id": "VzRxSGqfwQfO"
   },
   "source": [
    "#### It will give us SyntaxError like invalid character."
   ]
  },
  {
   "cell_type": "markdown",
   "metadata": {
    "id": "4isa3yoWvbB3"
   },
   "source": [
    "### How Do You Handle Exceptions With Try/Except/Finally In Python? Explain with coding snippets."
   ]
  },
  {
   "cell_type": "code",
   "execution_count": 1,
   "metadata": {
    "id": "A5uj5-dgwQ-d"
   },
   "outputs": [
    {
     "name": "stdin",
     "output_type": "stream",
     "text": [
      "Enter only character/string :  himal\n"
     ]
    },
    {
     "name": "stdout",
     "output_type": "stream",
     "text": [
      "invalid literal for int() with base 10: 'himal'\n",
      "This will always execute.\n"
     ]
    }
   ],
   "source": [
    "# If we are getting input from user and user can only enter number if user enter string then \n",
    "# at the time of converting numeric string , it will give one exception as invalid literal for int() with base 10\n",
    "# After this exception finally block will be executed.\n",
    "# Example :- \n",
    "try:\n",
    "    stt = input(\"Enter only number : \")\n",
    "    stt = int(stt)\n",
    "except Exception as err:\n",
    "    print(err)\n",
    "finally:\n",
    "    print(\"This will always execute.\")"
   ]
  },
  {
   "cell_type": "markdown",
   "metadata": {
    "id": "kT-pm-S7va_m"
   },
   "source": [
    "### Write python program that user to enter only odd numbers, else will raise an exception."
   ]
  },
  {
   "cell_type": "code",
   "execution_count": 10,
   "metadata": {
    "id": "9AnGYlfiwRx-"
   },
   "outputs": [
    {
     "name": "stdin",
     "output_type": "stream",
     "text": [
      "Enter only odd number :  123444\n"
     ]
    },
    {
     "name": "stdout",
     "output_type": "stream",
     "text": [
      "Enter only odd numbers\n"
     ]
    }
   ],
   "source": [
    "try:\n",
    "    odd = input(\"Enter only odd number : \")\n",
    "    assert int(odd) % 2 != 0,\"Enter only odd numbers\"\n",
    "except Exception as err:\n",
    "    print(err)"
   ]
  },
  {
   "cell_type": "markdown",
   "metadata": {
    "id": "zFMFiCKfva9S"
   },
   "source": [
    "### What are oops concepts? Is multiple inheritance supported in java"
   ]
  },
  {
   "cell_type": "markdown",
   "metadata": {
    "id": "z0JxVTnAwSSQ"
   },
   "source": [
    "#### In python oops is a programming style or technique which is assoicated with obect and class.\n",
    "#### Class = blueprint or design of something.\n",
    "#### Object = real thing that are made from class or made from blueprint or design.\n",
    "#### No, multiple inheritance is not supported in java. The reason behind this is to prevent ambiguity."
   ]
  },
  {
   "cell_type": "markdown",
   "metadata": {
    "id": "CVKWoTntva7H"
   },
   "source": [
    "### How to Define a Class in Python? What Is Self? Give An Example Of A Python Class"
   ]
  },
  {
   "cell_type": "code",
   "execution_count": null,
   "metadata": {
    "id": "0se2lWFuwSus"
   },
   "outputs": [],
   "source": [
    "# We can define class by using \"class\" keyword and then \"name_of_class\".\n",
    "# Self is a parameter which is used to give reference to the current class of object. It is used to access variable and methods that are belong to the class."
   ]
  },
  {
   "cell_type": "markdown",
   "metadata": {
    "id": "B5eOhB5ava5m"
   },
   "source": [
    "### Write a Python class named Rectangle constructed by a length and width and a method which will compute the area of a rectangle"
   ]
  },
  {
   "cell_type": "code",
   "execution_count": 19,
   "metadata": {
    "id": "XK9-mvmcwUIq"
   },
   "outputs": [
    {
     "name": "stdout",
     "output_type": "stream",
     "text": [
      "Area of rectangle :  67.19999999999999\n"
     ]
    }
   ],
   "source": [
    "class Rectangle:\n",
    "    length = float()\n",
    "    width = float()\n",
    "    \n",
    "    def __init__(self,length,width):\n",
    "        self.length = length \n",
    "        self.width = width \n",
    "    \n",
    "    def area_rectangle(self):\n",
    "        return self.length * self.width\n",
    "\n",
    "obj = Rectangle(22.4,3)\n",
    "print(\"Area of rectangle : \", obj.area_rectangle())"
   ]
  },
  {
   "cell_type": "markdown",
   "metadata": {
    "id": "6PrSE8tava3u"
   },
   "source": [
    "### Write a Python class named Circle constructed by a radius and two methods which will compute the area and the perimeter of a circle"
   ]
  },
  {
   "cell_type": "code",
   "execution_count": 25,
   "metadata": {
    "id": "2s2IoBoZwVTl"
   },
   "outputs": [
    {
     "name": "stdout",
     "output_type": "stream",
     "text": [
      "28.274333882308138\n",
      "18.84955592153876\n"
     ]
    }
   ],
   "source": [
    "import math\n",
    "\n",
    "class Circle:\n",
    "    radius = float()\n",
    "    def __init__(self,radius):\n",
    "        self.radius = radius\n",
    "    \n",
    "    def area(self):\n",
    "        return math.pi * self.radius * self.radius\n",
    "        \n",
    "    def perimeter(self):\n",
    "        return 2 * math.pi * self.radius\n",
    "\n",
    "obj = Circle(3)\n",
    "print(obj.area())\n",
    "print(obj.perimeter())"
   ]
  },
  {
   "cell_type": "markdown",
   "metadata": {
    "id": "N-oBash7v2VR"
   },
   "source": [
    "### Explain Inheritance in Python with an example? What is init? Or What Is A Constructor In Python?"
   ]
  },
  {
   "cell_type": "code",
   "execution_count": 27,
   "metadata": {
    "id": "HZbrQpjTwWXf"
   },
   "outputs": [
    {
     "name": "stdout",
     "output_type": "stream",
     "text": [
      "Constructor is called.\n"
     ]
    }
   ],
   "source": [
    "# Inheritance gives a functionality use member function and variable from one class to another class.\n",
    "# Like if i have class vehicle and variable is wheels, seats, color, name and some function like driving(), parking(). Now i want to use this variable and function from class vehicle to class bike and class car then we can use concept of inheritance.\n",
    "# init is a reserved method in python which is also known as constructor.\n",
    "# Constructor is automatically called when class object is created.\n",
    "\n",
    "class Vehicle:\n",
    "    name = \"\"\n",
    "    color = \"\"\n",
    "    wheels = 0\n",
    "    \n",
    "class Bike:\n",
    "    def __init__(self):\n",
    "        print(\"Constructor is called.\")\n",
    "    \n",
    "obj = Bike()\n",
    "obj.name = \"Jaguar\"\n",
    "obj.color = \"blue\"\n",
    "obj.wheels = 4"
   ]
  },
  {
   "cell_type": "markdown",
   "metadata": {
    "id": "fMVPld9uv2S4"
   },
   "source": [
    "### What is Instantiation in terms of OOP terminology?"
   ]
  },
  {
   "cell_type": "markdown",
   "metadata": {
    "id": "icIqztpswWtZ"
   },
   "source": [
    "#### Instantiation means creating object or instance of class."
   ]
  },
  {
   "cell_type": "markdown",
   "metadata": {
    "id": "30NDXS7Dv2Pl"
   },
   "source": [
    "### What is used to check whether an object o is an instance of class A?"
   ]
  },
  {
   "cell_type": "code",
   "execution_count": 35,
   "metadata": {
    "id": "g-0zLglpwXSE"
   },
   "outputs": [
    {
     "name": "stdout",
     "output_type": "stream",
     "text": [
      "True\n"
     ]
    }
   ],
   "source": [
    "class A:\n",
    "    pass\n",
    "\n",
    "o = A()\n",
    "\n",
    "print(isinstance(o,A))"
   ]
  },
  {
   "cell_type": "markdown",
   "metadata": {
    "id": "KtO41c3tv9lU"
   },
   "source": [
    "### What relationship is appropriate for Course and Faculty?"
   ]
  },
  {
   "cell_type": "code",
   "execution_count": null,
   "metadata": {
    "id": "knBYwzrlwXuK"
   },
   "outputs": [],
   "source": [
    "# Association -> composition"
   ]
  },
  {
   "cell_type": "markdown",
   "metadata": {
    "id": "nW8KfDifv9Zi"
   },
   "source": [
    "### What relationship is appropriate for Student and Person?\n"
   ]
  },
  {
   "cell_type": "code",
   "execution_count": null,
   "metadata": {
    "id": "AmjZQjKGwYtG"
   },
   "outputs": [],
   "source": [
    "# Inheritance"
   ]
  }
 ],
 "metadata": {
  "colab": {
   "collapsed_sections": [],
   "name": "module_4.ipynb",
   "provenance": []
  },
  "kernelspec": {
   "display_name": "Python 3 (ipykernel)",
   "language": "python",
   "name": "python3"
  },
  "language_info": {
   "codemirror_mode": {
    "name": "ipython",
    "version": 3
   },
   "file_extension": ".py",
   "mimetype": "text/x-python",
   "name": "python",
   "nbconvert_exporter": "python",
   "pygments_lexer": "ipython3",
   "version": "3.9.12"
  },
  "toc-autonumbering": false,
  "toc-showcode": false,
  "toc-showmarkdowntxt": false
 },
 "nbformat": 4,
 "nbformat_minor": 4
}
