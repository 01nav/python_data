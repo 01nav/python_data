{
 "cells": [
  {
   "cell_type": "code",
   "execution_count": 5,
   "id": "00954aec",
   "metadata": {},
   "outputs": [
    {
     "data": {
      "text/plain": [
       "['__doc__',\n",
       " '__loader__',\n",
       " '__name__',\n",
       " '__package__',\n",
       " '__spec__',\n",
       " 'acos',\n",
       " 'acosh',\n",
       " 'asin',\n",
       " 'asinh',\n",
       " 'atan',\n",
       " 'atan2',\n",
       " 'atanh',\n",
       " 'ceil',\n",
       " 'comb',\n",
       " 'copysign',\n",
       " 'cos',\n",
       " 'cosh',\n",
       " 'degrees',\n",
       " 'dist',\n",
       " 'e',\n",
       " 'erf',\n",
       " 'erfc',\n",
       " 'exp',\n",
       " 'expm1',\n",
       " 'fabs',\n",
       " 'factorial',\n",
       " 'floor',\n",
       " 'fmod',\n",
       " 'frexp',\n",
       " 'fsum',\n",
       " 'gamma',\n",
       " 'gcd',\n",
       " 'hypot',\n",
       " 'inf',\n",
       " 'isclose',\n",
       " 'isfinite',\n",
       " 'isinf',\n",
       " 'isnan',\n",
       " 'isqrt',\n",
       " 'lcm',\n",
       " 'ldexp',\n",
       " 'lgamma',\n",
       " 'log',\n",
       " 'log10',\n",
       " 'log1p',\n",
       " 'log2',\n",
       " 'modf',\n",
       " 'nan',\n",
       " 'nextafter',\n",
       " 'perm',\n",
       " 'pi',\n",
       " 'pow',\n",
       " 'prod',\n",
       " 'radians',\n",
       " 'remainder',\n",
       " 'sin',\n",
       " 'sinh',\n",
       " 'sqrt',\n",
       " 'tan',\n",
       " 'tanh',\n",
       " 'tau',\n",
       " 'trunc',\n",
       " 'ulp']"
      ]
     },
     "execution_count": 5,
     "metadata": {},
     "output_type": "execute_result"
    }
   ],
   "source": [
    "import math\n",
    "dir(math)"
   ]
  },
  {
   "cell_type": "code",
   "execution_count": 10,
   "id": "c837f2a9",
   "metadata": {},
   "outputs": [
    {
     "data": {
      "text/plain": [
       "0.0"
      ]
     },
     "execution_count": 10,
     "metadata": {},
     "output_type": "execute_result"
    }
   ],
   "source": [
    "# math.sqrt(144) # 12\n",
    "# math.sqrt(176)\n",
    "math.sqrt(0)"
   ]
  },
  {
   "cell_type": "code",
   "execution_count": 17,
   "id": "9d34ea66",
   "metadata": {},
   "outputs": [
    {
     "data": {
      "text/plain": [
       "3"
      ]
     },
     "execution_count": 17,
     "metadata": {},
     "output_type": "execute_result"
    }
   ],
   "source": [
    "# This will return smallest integer not less than 'X'.\n",
    "math.ceil(2.9)\n",
    "math.ceil(2.1)\n",
    "math.ceil(2)\n",
    "math.ceil(-2.6)"
   ]
  },
  {
   "cell_type": "code",
   "execution_count": 24,
   "id": "09b7aba1",
   "metadata": {},
   "outputs": [
    {
     "data": {
      "text/plain": [
       "-3"
      ]
     },
     "execution_count": 24,
     "metadata": {},
     "output_type": "execute_result"
    }
   ],
   "source": [
    "# This will return largest integer not greater than 'X'.\n",
    "math.floor(2.9)\n",
    "math.floor(2.1)\n",
    "math.floor(2.5)\n",
    "math.floor(-2.7)"
   ]
  },
  {
   "cell_type": "code",
   "execution_count": 37,
   "id": "5d41af92",
   "metadata": {},
   "outputs": [
    {
     "data": {
      "text/plain": [
       "16"
      ]
     },
     "execution_count": 37,
     "metadata": {},
     "output_type": "execute_result"
    }
   ],
   "source": [
    "# This will return power of number in decimal.\n",
    "math.pow(3,4)\n",
    "math.pow(3,-4)\n",
    "math.pow(1.2,2.4)"
   ]
  },
  {
   "cell_type": "code",
   "execution_count": 44,
   "id": "fce92428",
   "metadata": {},
   "outputs": [
    {
     "data": {
      "text/plain": [
       "1"
      ]
     },
     "execution_count": 44,
     "metadata": {},
     "output_type": "execute_result"
    }
   ],
   "source": [
    "# Inbuilt pow function take three arguments last one is for mod like\n",
    "# pow(2,4,5) mod = 5 that means 2*2*2*2/5 = 16/5 = 1\n",
    "# It will return remainder of given number.\n",
    "pow(2,4)\n",
    "pow(2,4,5)"
   ]
  },
  {
   "cell_type": "code",
   "execution_count": 52,
   "id": "cb1e8a17",
   "metadata": {},
   "outputs": [
    {
     "data": {
      "text/plain": [
       "4.0"
      ]
     },
     "execution_count": 52,
     "metadata": {},
     "output_type": "execute_result"
    }
   ],
   "source": [
    "# return absolute value of given value.\n",
    "math.fabs(-4.567)\n",
    "math.fabs(4.567)\n",
    "math.fabs(-4)\n",
    "math.fabs(4)"
   ]
  },
  {
   "cell_type": "code",
   "execution_count": 58,
   "id": "e973e45f",
   "metadata": {},
   "outputs": [
    {
     "data": {
      "text/plain": [
       "4"
      ]
     },
     "execution_count": 58,
     "metadata": {},
     "output_type": "execute_result"
    }
   ],
   "source": [
    "# Inbuilt abs function will also works as math.fabs()\n",
    "# the diffrence is that if we write -4 or 4 than it will not add \".0\" after the number.\n",
    "abs(-4.567)\n",
    "abs(4.567)\n",
    "abs(-4)\n",
    "abs(4)"
   ]
  },
  {
   "cell_type": "code",
   "execution_count": 60,
   "id": "07074179",
   "metadata": {},
   "outputs": [
    {
     "data": {
      "text/plain": [
       "90.0"
      ]
     },
     "execution_count": 60,
     "metadata": {},
     "output_type": "execute_result"
    }
   ],
   "source": [
    "math.degrees(90) # convert angle x from radians to degree.\n",
    "math.degrees(-90)\n",
    "math.radians(5156.620156177409) # convert angle x from degree to radians.\n",
    "math.radians(-5156.620156177409)"
   ]
  },
  {
   "cell_type": "code",
   "execution_count": 126,
   "id": "62f179ae",
   "metadata": {},
   "outputs": [
    {
     "data": {
      "text/plain": [
       "3.141592653589793"
      ]
     },
     "execution_count": 126,
     "metadata": {},
     "output_type": "execute_result"
    }
   ],
   "source": [
    "math.pi"
   ]
  },
  {
   "cell_type": "code",
   "execution_count": 61,
   "id": "b73b524e",
   "metadata": {},
   "outputs": [
    {
     "data": {
      "text/plain": [
       "2.718281828459045"
      ]
     },
     "execution_count": 61,
     "metadata": {},
     "output_type": "execute_result"
    }
   ],
   "source": [
    "math.e"
   ]
  },
  {
   "cell_type": "code",
   "execution_count": 127,
   "id": "4b0e932d",
   "metadata": {},
   "outputs": [
    {
     "data": {
      "text/plain": [
       "81.0"
      ]
     },
     "execution_count": 127,
     "metadata": {},
     "output_type": "execute_result"
    }
   ],
   "source": [
    "math.pow(3,4)"
   ]
  },
  {
   "cell_type": "code",
   "execution_count": 130,
   "id": "28dfbddb",
   "metadata": {},
   "outputs": [
    {
     "data": {
      "text/plain": [
       "3"
      ]
     },
     "execution_count": 130,
     "metadata": {},
     "output_type": "execute_result"
    }
   ],
   "source": [
    "math.ceil(2.001)"
   ]
  },
  {
   "cell_type": "code",
   "execution_count": 132,
   "id": "8b5f9c20",
   "metadata": {},
   "outputs": [
    {
     "data": {
      "text/plain": [
       "2"
      ]
     },
     "execution_count": 132,
     "metadata": {},
     "output_type": "execute_result"
    }
   ],
   "source": [
    "math.floor(2.00001)"
   ]
  },
  {
   "cell_type": "code",
   "execution_count": 133,
   "id": "441a6ace",
   "metadata": {},
   "outputs": [
    {
     "data": {
      "text/plain": [
       "120"
      ]
     },
     "execution_count": 133,
     "metadata": {},
     "output_type": "execute_result"
    }
   ],
   "source": [
    "math.factorial(5)"
   ]
  },
  {
   "cell_type": "code",
   "execution_count": 150,
   "id": "55ee1dc2",
   "metadata": {},
   "outputs": [
    {
     "data": {
      "text/plain": [
       "56"
      ]
     },
     "execution_count": 150,
     "metadata": {},
     "output_type": "execute_result"
    }
   ],
   "source": [
    "math.comb(8,3)"
   ]
  }
 ],
 "metadata": {
  "interpreter": {
   "hash": "b6e548fe735f69bf72843989c318ba6727f83fec9688ffe09ea6c9c8e07cb3b2"
  },
  "kernelspec": {
   "display_name": "Python 3 (ipykernel)",
   "language": "python",
   "name": "python3"
  },
  "language_info": {
   "codemirror_mode": {
    "name": "ipython",
    "version": 3
   },
   "file_extension": ".py",
   "mimetype": "text/x-python",
   "name": "python",
   "nbconvert_exporter": "python",
   "pygments_lexer": "ipython3",
   "version": "3.9.12"
  }
 },
 "nbformat": 4,
 "nbformat_minor": 5
}
