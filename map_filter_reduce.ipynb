{
 "cells": [
  {
   "cell_type": "code",
   "execution_count": 41,
   "id": "48792f4d",
   "metadata": {},
   "outputs": [
    {
     "name": "stdout",
     "output_type": "stream",
     "text": [
      "[1, 4, 9, 16, 25, 36, 49, 64, 81]\n",
      "[1, 4, 9, 16, 25, 36, 49, 64, 81]\n",
      "[1, 4, 9, 16, 25, 36, 49, 64, 81]\n",
      "[1, 1]\n",
      "[4, 8]\n",
      "[9, 27]\n",
      "[16, 64]\n",
      "[25, 125]\n",
      "[36, 216]\n",
      "[49, 343]\n",
      "[64, 512]\n",
      "[81, 729]\n"
     ]
    }
   ],
   "source": [
    "# map(func,iter) function replace the use of for loop while iterate with list, tuple or etc.\n",
    "# map() function returns map object so we need to convert than into list , tuple or etc.\n",
    "l1 = [1,2,3,4,5,6,7,8,9]\n",
    "# if we want to find square of all list item from l1 then we need to run a loop.\n",
    "# By using map() function we can simply write the function name which will do sum and list.\n",
    "\n",
    "def func_sqrt(listt):\n",
    "    return listt * listt\n",
    "\n",
    "def func_cube(listt):\n",
    "    return listt * listt * listt\n",
    "\n",
    "# Native Method :-\n",
    "l2 = []\n",
    "for i in l1:\n",
    "    l2.append(func_sqrt(i))\n",
    "else:\n",
    "    print(l2)\n",
    "\n",
    "# Map() fucntion :-\n",
    "print(list(map(func_sqrt,l1)))\n",
    "\n",
    "# Map() function by using lambda function\n",
    "# Lambda function is just one line function which is used to make anonymous function.\n",
    "print(list(map(lambda x:x*x,l1)))\n",
    "\n",
    "funct = [func_sqrt,func_cube]\n",
    "funct2 = [lambda x:x*x,lambda x:x*x*x]\n",
    "\n",
    "# list(map(lambda x:x(i),l1))\n",
    "for i in range(len(l1)):\n",
    "    ans = list(map(lambda x:x(l1[i]),funct2))\n",
    "    print(ans)"
   ]
  },
  {
   "cell_type": "code",
   "execution_count": 62,
   "id": "a0b888b5",
   "metadata": {},
   "outputs": [
    {
     "name": "stdout",
     "output_type": "stream",
     "text": [
      "[10, 23, 30, 12, 40]\n",
      "[10, 23, 30, 12, 40]\n"
     ]
    }
   ],
   "source": [
    "# The filter(func,iter) function returns an iterator were the items are filtered through a function to -\n",
    "# test if the item is accepted or not.\n",
    "# like checking a number is greater than 5 or not so in this case conditional statement will return True or False\n",
    "# By using filter function it will return the iterator like if number is 10 then 10 > 5 True and function will return \"10\"\n",
    "def is_greater(num):\n",
    "    return num > 5\n",
    "l1 = [10,23,30,1,2,12,3,40]\n",
    "print(list(filter(is_greater,l1)))\n",
    "print(list(filter(lambda x:x>5,l1)))"
   ]
  },
  {
   "cell_type": "code",
   "execution_count": 61,
   "id": "e955451b",
   "metadata": {},
   "outputs": [
    {
     "name": "stdout",
     "output_type": "stream",
     "text": [
      "34\n",
      "34\n"
     ]
    }
   ],
   "source": [
    "# The reduce(fun,seq) function is used to apply a particular function passed in its argument to all\n",
    "# of the list elements mentioned in the sequence passed along.This function is defined in “functools” module.\n",
    "from functools import reduce\n",
    "def num_sum(x,y):\n",
    "    return x+y\n",
    "\n",
    "l1 = [10,20,3,1]\n",
    "print(reduce(num_sum,l1))\n",
    "print(reduce(lambda x,y:x+y,l1))\n",
    "# (((10+20)+3)+1)"
   ]
  }
 ],
 "metadata": {
  "kernelspec": {
   "display_name": "Python 3.9.12 ('base')",
   "language": "python",
   "name": "python3"
  },
  "language_info": {
   "codemirror_mode": {
    "name": "ipython",
    "version": 3
   },
   "file_extension": ".py",
   "mimetype": "text/x-python",
   "name": "python",
   "nbconvert_exporter": "python",
   "pygments_lexer": "ipython3",
   "version": "3.9.12"
  },
  "vscode": {
   "interpreter": {
    "hash": "b6e548fe735f69bf72843989c318ba6727f83fec9688ffe09ea6c9c8e07cb3b2"
   }
  }
 },
 "nbformat": 4,
 "nbformat_minor": 5
}
