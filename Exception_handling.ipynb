{
 "cells": [
  {
   "cell_type": "markdown",
   "id": "7fd85067-e2f4-4fd1-9730-8961021dc9eb",
   "metadata": {},
   "source": [
    "# Exception Handling"
   ]
  },
  {
   "cell_type": "code",
   "execution_count": 3,
   "id": "c928e6bc-9de8-4cb4-aba1-086b49d2944f",
   "metadata": {},
   "outputs": [],
   "source": [
    "# Exception is trigger automatically on errors.\n",
    "# Exception : Generate by program occur during execution of program. It can be handle.\n",
    "            # Exception occur once compilation of program. so If there is any option before the exception occur then it will run.\n",
    "# Error : Generate by system at time of compilation. It can not be handle.\n",
    "            # Error occur when system will found any error that is violated by program in which is already defined by system.            "
   ]
  },
  {
   "cell_type": "code",
   "execution_count": 2,
   "id": "32f91370-3869-4188-8c66-5991c025676b",
   "metadata": {},
   "outputs": [
    {
     "ename": "NameError",
     "evalue": "name 'val' is not defined",
     "output_type": "error",
     "traceback": [
      "\u001b[1;31m---------------------------------------------------------------------------\u001b[0m",
      "\u001b[1;31mNameError\u001b[0m                                 Traceback (most recent call last)",
      "Input \u001b[1;32mIn [2]\u001b[0m, in \u001b[0;36m<cell line: 1>\u001b[1;34m()\u001b[0m\n\u001b[1;32m----> 1\u001b[0m \u001b[38;5;28mprint\u001b[39m(\u001b[43mval\u001b[49m)\n",
      "\u001b[1;31mNameError\u001b[0m: name 'val' is not defined"
     ]
    }
   ],
   "source": [
    "print(val)"
   ]
  },
  {
   "cell_type": "code",
   "execution_count": 4,
   "id": "68d27702-8590-4e8c-abc0-b3d43567dce7",
   "metadata": {},
   "outputs": [
    {
     "name": "stdout",
     "output_type": "stream",
     "text": [
      "Something is wrong.\n"
     ]
    }
   ],
   "source": [
    "try:\n",
    "    print(val)\n",
    "except:\n",
    "    print(\"Something is wrong.\")"
   ]
  },
  {
   "cell_type": "code",
   "execution_count": 6,
   "id": "45a35604-9aa5-4b31-9ec9-810617226e0f",
   "metadata": {},
   "outputs": [
    {
     "name": "stdout",
     "output_type": "stream",
     "text": [
      "name 'val' is not defined\n"
     ]
    }
   ],
   "source": [
    "# If we want to print the message of exception from class of exception then we can us this:\n",
    "try:\n",
    "    print(val)\n",
    "except Exception as er:\n",
    "    print(er)"
   ]
  },
  {
   "cell_type": "code",
   "execution_count": 14,
   "id": "5953c1c1-ee9d-4d4d-8cad-812922ed6ff3",
   "metadata": {},
   "outputs": [
    {
     "name": "stdout",
     "output_type": "stream",
     "text": [
      "substring not found\n"
     ]
    }
   ],
   "source": [
    "# If we only want to print particular exception like value error or name error then we can do this:\n",
    "try:\n",
    "    'himal'.index('z')    \n",
    "    print(val)\n",
    "except NameError as n_er:\n",
    "    print(n_er)\n",
    "except ValueError as val_er:\n",
    "    print(val_er)    "
   ]
  },
  {
   "cell_type": "code",
   "execution_count": 17,
   "id": "be01a1f8-4029-40f5-a4eb-c6d7267aa9cc",
   "metadata": {},
   "outputs": [
    {
     "name": "stdout",
     "output_type": "stream",
     "text": [
      "substring not found\n"
     ]
    }
   ],
   "source": [
    "# We can also group it together:\n",
    "try:\n",
    "    'himal'.index('z')    \n",
    "    print(val)\n",
    "except (NameError,ValueError) as name_val_er:\n",
    "    print(name_val_er)"
   ]
  },
  {
   "cell_type": "code",
   "execution_count": 18,
   "id": "6fcc4953-ce00-45b1-b317-d2bbd22294b0",
   "metadata": {},
   "outputs": [
    {
     "name": "stdout",
     "output_type": "stream",
     "text": [
      "substring not found\n",
      "It will always run if exception occur or not.\n"
     ]
    }
   ],
   "source": [
    "try:\n",
    "    'himal'.index('z')    \n",
    "    print(val)\n",
    "except (NameError,ValueError) as name_val_er:\n",
    "    print(name_val_er)\n",
    "finally:\n",
    "    print(\"It will always run if exception occur or not.\")"
   ]
  },
  {
   "cell_type": "code",
   "execution_count": 21,
   "id": "0672b999-5d55-473a-be4c-1a125930004d",
   "metadata": {},
   "outputs": [
    {
     "ename": "Exception",
     "evalue": "Something goes wrong",
     "output_type": "error",
     "traceback": [
      "\u001b[1;31m---------------------------------------------------------------------------\u001b[0m",
      "\u001b[1;31mException\u001b[0m                                 Traceback (most recent call last)",
      "Input \u001b[1;32mIn [21]\u001b[0m, in \u001b[0;36m<cell line: 2>\u001b[1;34m()\u001b[0m\n\u001b[0;32m      1\u001b[0m \u001b[38;5;66;03m# we can also raise exception by our own.\u001b[39;00m\n\u001b[1;32m----> 2\u001b[0m \u001b[38;5;28;01mraise\u001b[39;00m \u001b[38;5;167;01mException\u001b[39;00m(\u001b[38;5;124m'\u001b[39m\u001b[38;5;124mSomething goes wrong\u001b[39m\u001b[38;5;124m'\u001b[39m)\n",
      "\u001b[1;31mException\u001b[0m: Something goes wrong"
     ]
    }
   ],
   "source": [
    "# we can also raise exception by our own.\n",
    "raise Exception('Something goes wrong')"
   ]
  },
  {
   "cell_type": "code",
   "execution_count": 28,
   "id": "cb4177f3-9881-45da-8e63-066585b9b84a",
   "metadata": {},
   "outputs": [
    {
     "name": "stdout",
     "output_type": "stream",
     "text": [
      "before\n"
     ]
    },
    {
     "ename": "AssertionError",
     "evalue": "Not found",
     "output_type": "error",
     "traceback": [
      "\u001b[1;31m---------------------------------------------------------------------------\u001b[0m",
      "\u001b[1;31mAssertionError\u001b[0m                            Traceback (most recent call last)",
      "Input \u001b[1;32mIn [28]\u001b[0m, in \u001b[0;36m<cell line: 3>\u001b[1;34m()\u001b[0m\n\u001b[0;32m      1\u001b[0m \u001b[38;5;66;03m# We have one assert (assertion handling) which always run on false condition.\u001b[39;00m\n\u001b[0;32m      2\u001b[0m \u001b[38;5;28mprint\u001b[39m(\u001b[38;5;124m\"\u001b[39m\u001b[38;5;124mbefore\u001b[39m\u001b[38;5;124m\"\u001b[39m)\n\u001b[1;32m----> 3\u001b[0m \u001b[38;5;28;01massert\u001b[39;00m \u001b[38;5;124m\"\u001b[39m\u001b[38;5;124ms\u001b[39m\u001b[38;5;124m\"\u001b[39m \u001b[38;5;129;01min\u001b[39;00m \u001b[38;5;124m\"\u001b[39m\u001b[38;5;124mhimal\u001b[39m\u001b[38;5;124m\"\u001b[39m, \u001b[38;5;124m'\u001b[39m\u001b[38;5;124mNot found\u001b[39m\u001b[38;5;124m'\u001b[39m\n\u001b[0;32m      4\u001b[0m \u001b[38;5;28mprint\u001b[39m(\u001b[38;5;124m\"\u001b[39m\u001b[38;5;124mafter\u001b[39m\u001b[38;5;124m\"\u001b[39m)\n",
      "\u001b[1;31mAssertionError\u001b[0m: Not found"
     ]
    }
   ],
   "source": [
    "# We have one assert (assertion handling) which always run on false condition.\n",
    "print(\"before\")\n",
    "assert \"s\" in \"himal\", 'Not found'\n",
    "print(\"after\")"
   ]
  },
  {
   "cell_type": "code",
   "execution_count": 32,
   "id": "f1e1b75d-a583-4bf1-9084-38e478633c01",
   "metadata": {},
   "outputs": [
    {
     "name": "stdout",
     "output_type": "stream",
     "text": [
      "Not found\n"
     ]
    }
   ],
   "source": [
    "try:\n",
    "    assert \"x\" in \"himal\", 'Not found'\n",
    "except Exception as err:\n",
    "    print(err)"
   ]
  },
  {
   "cell_type": "code",
   "execution_count": 44,
   "id": "6aa2ce1d-563a-4017-ab68-746168213df0",
   "metadata": {},
   "outputs": [
    {
     "name": "stdout",
     "output_type": "stream",
     "text": [
      "Enter your account number : 1999\n",
      "welcome himal mevada\n",
      "Enter pin : 5567\n",
      "Your balance is 10000.0\n"
     ]
    }
   ],
   "source": [
    "# Bank Example :-\n",
    "\n",
    "# [{},{},{},{},{}]\n",
    "my_info = {\n",
    "    \"acc_name\": \"himal mevada\",\n",
    "    \"acc_no\": 1999,\n",
    "    \"acc_pin\": 5567,\n",
    "    \"acc_bal\": 10000.00\n",
    "}\n",
    "\n",
    "acc_no = input(\"Enter your account number :\")\n",
    "\n",
    "if acc_no.isnumeric():\n",
    "    acc_no = int(acc_no)\n",
    "    if acc_no == my_info['acc_no']:\n",
    "        print(f\"welcome {my_info['acc_name']}\")\n",
    "        pin = input(\"Enter pin :\")\n",
    "        if pin.isnumeric():\n",
    "            pin = int(pin)\n",
    "            if pin == my_info['acc_pin']:\n",
    "                print(f\"Your balance is {my_info['acc_bal']}\")\n",
    "            else:\n",
    "                print(\"Wrong pin entered.\")\n",
    "        else:\n",
    "            print(\"Wrong input.\")\n",
    "    else:\n",
    "        print(\"Wrong account number.\")\n",
    "else:\n",
    "    print(\"Wrong input.\")"
   ]
  },
  {
   "cell_type": "code",
   "execution_count": 16,
   "id": "84fd4a16-aa53-4582-a18b-a5d67d0655cd",
   "metadata": {},
   "outputs": [
    {
     "name": "stdout",
     "output_type": "stream",
     "text": [
      "Enter your account number : hf\n",
      "Wrong input.\n"
     ]
    }
   ],
   "source": [
    "# Bank Example :-\n",
    "\n",
    "# [{},{},{},{},{}]\n",
    "my_info = {\n",
    "    \"acc_name\": \"himal mevada\",\n",
    "    \"acc_no\": 1999,\n",
    "    \"acc_pin\": 5567,\n",
    "    \"acc_bal\": 10000.00\n",
    "}\n",
    "\n",
    "acc_no = input(\"Enter your account number :\")\n",
    "\n",
    "try:\n",
    "    if acc_no.isnumeric():\n",
    "        acc_no = int(acc_no)\n",
    "        if acc_no == my_info['acc_no']:\n",
    "            print(f\"welcome {my_info['acc_name']}\")\n",
    "            pin = input(\"Enter pin :\")\n",
    "            if pin.isnumeric():\n",
    "                pin = int(pin)\n",
    "                if pin == my_info['acc_pin']:\n",
    "                    print(f\"Your balance is {my_info['acc_bal']}\")\n",
    "                else:\n",
    "                    raise Exception(\"Wrong pin entered.\")\n",
    "            else:\n",
    "                raise Exception(\"Wrong input.\")\n",
    "        else:\n",
    "            raise Exception(\"Wrong account number.\")\n",
    "    else:\n",
    "        raise Exception(\"Wrong input.\")\n",
    "except Exception as err:#It will take all the exception and print it here.\n",
    "    print(err)"
   ]
  },
  {
   "cell_type": "code",
   "execution_count": 19,
   "id": "7aa2f0a3-2ddb-4590-8e7a-9e2f2cf6e530",
   "metadata": {},
   "outputs": [
    {
     "name": "stdout",
     "output_type": "stream",
     "text": [
      "Enter your account number : rd\n",
      "Wrong input.\n"
     ]
    }
   ],
   "source": [
    "# Bank Example :-\n",
    "\n",
    "# [{},{},{},{},{}]\n",
    "my_info = {\n",
    "    \"acc_name\": \"himal mevada\",\n",
    "    \"acc_no\": 1999,\n",
    "    \"acc_pin\": 5567,\n",
    "    \"acc_bal\": 10000.00\n",
    "}\n",
    "\n",
    "acc_no = input(\"Enter your account number :\")\n",
    "\n",
    "try:\n",
    "    assert acc_no.isnumeric(),'Wrong input.'\n",
    "    acc_no = int(acc_no)\n",
    "    assert acc_no == my_info['acc_no'],'Wrong account number.'\n",
    "    print(f\"welcome {my_info['acc_name']}\")\n",
    "    pin = input(\"Enter pin :\")\n",
    "    assert pin.isnumeric(),'Wrong input.'\n",
    "    pin = int(pin)\n",
    "    assert pin == my_info['acc_pin'],'Wrong pin entered.'\n",
    "    print(f\"Your balance is {my_info['acc_bal']}\")\n",
    "except Exception as err:#It will take all the exception and print it here.\n",
    "    print(err)"
   ]
  },
  {
   "cell_type": "code",
   "execution_count": 18,
   "id": "436f01cd-e0c2-4d03-b6c7-98ab88bfbb17",
   "metadata": {},
   "outputs": [
    {
     "name": "stdout",
     "output_type": "stream",
     "text": [
      "Enter your account number : vgr\n"
     ]
    },
    {
     "name": "stdout",
     "output_type": "stream",
     "text": [
      "Wrong input.\n"
     ]
    }
   ],
   "source": [
    "# Bank Example :-\n",
    "\n",
    "# [{},{},{},{},{}]\n",
    "my_info = [\n",
    "    {\n",
    "    \"acc_name\": \"Himal mevada\",\n",
    "    \"acc_no\": 1999,\n",
    "    \"acc_pin\": 5567,\n",
    "    \"acc_bal\": 10000.00\n",
    "},  \n",
    "    {\n",
    "    \"acc_name\": \"Hemangi mevada\",\n",
    "    \"acc_no\": 2000,\n",
    "    \"acc_pin\": 1532,\n",
    "    \"acc_bal\": 15000.00\n",
    "},  \n",
    "    {\n",
    "    \"acc_name\": \"Haresh mevada\",\n",
    "    \"acc_no\": 2001,\n",
    "    \"acc_pin\": 7564,\n",
    "    \"acc_bal\": 20000.00\n",
    "},  \n",
    "    {\n",
    "    \"acc_name\": \"Jigar mevada\",\n",
    "    \"acc_no\": 2002,\n",
    "    \"acc_pin\": 8645,\n",
    "    \"acc_bal\": 50000.00\n",
    "},  \n",
    "    {\n",
    "    \"acc_name\": \"Kamlesh mevada\",\n",
    "    \"acc_no\": 2003,\n",
    "    \"acc_pin\": 9775,\n",
    "    \"acc_bal\": 64000.00\n",
    "}\n",
    "]\n",
    "\n",
    "# acc_no = 1999\n",
    "# # LOGIC APPLIED ------------------------>\n",
    "# for i in range(len(my_info)):\n",
    "#     # print(my_info[i])\n",
    "#     for k,v in my_info[i].items():\n",
    "#         if acc_no == my_info[i].get('acc_no'):\n",
    "#             # print(\"Account found.\")\n",
    "#             print(f\"welcome {my_info[i]['acc_name']}\")\n",
    "#             print(k,v)\n",
    "#             break\n",
    "        \n",
    "        \n",
    "acc_no = input(\"Enter your account number :\")\n",
    "acc = \"\"\n",
    "try:\n",
    "    \n",
    "    assert acc_no.isnumeric(),'Wrong input.'\n",
    "    acc_no = int(acc_no)\n",
    "    \n",
    "    for i in range(len(my_info)):\n",
    "        for k,v in my_info[i].items():\n",
    "            if acc_no == my_info[i].get('acc_no'):\n",
    "                print(f\"welcome {my_info[i]['acc_name']}\")\n",
    "                pin = input(\"Enter pin :\")\n",
    "                assert pin.isnumeric(),'Wrong input.'\n",
    "                pin = int(pin)\n",
    "                acc = True\n",
    "                break\n",
    "    assert acc,'Wrong account number.'\n",
    "\n",
    "        \n",
    "    if acc:\n",
    "        for i in range(len(my_info)):\n",
    "            for k,v in my_info[i].items():\n",
    "                if pin == my_info[i].get(k):\n",
    "                    print(f\"Your balance is {my_info[i]['acc_bal']}\")\n",
    "                    pin = True\n",
    "                    break  \n",
    "        assert pin,'Wrong pin entered.'\n",
    "        \n",
    "except Exception as err:#It will take all the exception and print it here.\n",
    "    print(err)"
   ]
  }
 ],
 "metadata": {
  "kernelspec": {
   "display_name": "Python 3 (ipykernel)",
   "language": "python",
   "name": "python3"
  },
  "language_info": {
   "codemirror_mode": {
    "name": "ipython",
    "version": 3
   },
   "file_extension": ".py",
   "mimetype": "text/x-python",
   "name": "python",
   "nbconvert_exporter": "python",
   "pygments_lexer": "ipython3",
   "version": "3.9.12"
  },
  "vscode": {
   "interpreter": {
    "hash": "b6e548fe735f69bf72843989c318ba6727f83fec9688ffe09ea6c9c8e07cb3b2"
   }
  }
 },
 "nbformat": 4,
 "nbformat_minor": 5
}
