{
 "cells": [
  {
   "cell_type": "code",
   "execution_count": 1,
   "metadata": {},
   "outputs": [
    {
     "name": "stdout",
     "output_type": "stream",
     "text": [
      "d:\\Files\\python\n",
      ".idea\n",
      ".ipynb_checkpoints\n",
      "acc 1001.txt\n",
      "account.csv\n",
      "all_module.ipynb\n",
      "Basic\n",
      "Copy_of_python_gui.ipynb\n",
      "database\n",
      "datetime.ipynb\n",
      "datetime_module.ipynb\n",
      "email_sending_files\n",
      "exception_handling.ipynb\n",
      "file_handling.ipynb\n",
      "himal.txt\n",
      "image.png\n",
      "img_data_1.jpg\n",
      "img_data_2.jpg\n",
      "map_filter_reduce.ipynb\n",
      "module\n",
      "my_data.csv\n",
      "new_image.jpg\n",
      "OOPs.ipynb\n",
      "os_module.ipynb\n",
      "os_module.ipynb.05cee5eff371a9fdf989df640131dc7d.tmp\n",
      "Python_collections.ipynb\n",
      "Python_function.ipynb\n",
      "Python_JSON.ipynb\n",
      "python_keyword.docx\n",
      "remove_temp.py\n",
      "run.cmd\n",
      "solution OOPs.ipynb\n",
      "Strong_Password_generator.ipynb\n",
      "venv\n",
      "Working_with_files.ipynb\n",
      "__pycache__\n"
     ]
    }
   ],
   "source": [
    "import os\n",
    "\n",
    "# print(dir(os))\n",
    "\n",
    "print(os.getcwd())  # return current working directory.\n",
    "\n",
    "os.chdir(\"D:\\\\Files\\\\python\")\n",
    "# print(os.getcwd()) # return current working directory.\n",
    "\n",
    "dirc = os.listdir()  # will return all files and folder in form of list.\n",
    "\n",
    "for i in dirc:\n",
    "    print(i)\n"
   ]
  },
  {
   "cell_type": "code",
   "execution_count": null,
   "metadata": {},
   "outputs": [],
   "source": [
    "# to create folder : os.mkdir()\n",
    "os.mkdir(\"New\")"
   ]
  },
  {
   "cell_type": "code",
   "execution_count": null,
   "metadata": {},
   "outputs": [],
   "source": [
    "# to create folder inside folder mean many folder : os.makedirs()\n",
    "os.makedirs(\"Main/Inside_main\")"
   ]
  },
  {
   "cell_type": "code",
   "execution_count": null,
   "metadata": {},
   "outputs": [],
   "source": [
    "# to rename any file or folder\n",
    "os.rename(\"update.txt\",\"new.txt\")\n",
    "os.rename(\"Main\",\"main2\")"
   ]
  },
  {
   "cell_type": "code",
   "execution_count": null,
   "metadata": {},
   "outputs": [],
   "source": [
    "# to read environment variables :\n",
    "os.environ  # return whole environment variable\n",
    "\n",
    "# If you want any specific environment variable then we can use this one :\n",
    "os.environ.get(\"APPDATA\")\n"
   ]
  },
  {
   "cell_type": "code",
   "execution_count": null,
   "metadata": {},
   "outputs": [],
   "source": [
    "# to join different path.\n",
    "os.path.join(\"e:/\",\"/himal.txt\")"
   ]
  },
  {
   "cell_type": "code",
   "execution_count": null,
   "metadata": {},
   "outputs": [],
   "source": [
    "# return true if path is exist or return false.\n",
    "os.path.exists(\"e://himla/him.txt\")\n",
    "os.path.exists(\"d://\")\n"
   ]
  },
  {
   "cell_type": "code",
   "execution_count": null,
   "metadata": {},
   "outputs": [],
   "source": [
    "# return true if that is directory or return false.\n",
    "# os.path.isdir(\"e://\")\n",
    "# os.path.isdir(\"r://\")\n",
    "# it is a folder so return True.\n",
    "os.path.isdir(\"d://Files//python//__pycache__\")"
   ]
  },
  {
   "cell_type": "code",
   "execution_count": null,
   "metadata": {},
   "outputs": [],
   "source": [
    "# return true if that is file or return false.\n",
    "# os.path.isfile(\"e://\")\n",
    "os.path.isfile(\"d://Files//python//module.py\")  # it is a file so return True.\n"
   ]
  },
  {
   "cell_type": "code",
   "execution_count": null,
   "metadata": {},
   "outputs": [],
   "source": [
    "os.listdir()\n",
    "# os.getcwd()"
   ]
  },
  {
   "cell_type": "code",
   "execution_count": null,
   "metadata": {},
   "outputs": [],
   "source": [
    "# to remove only one file\n",
    "os.remove('new.txt')\n"
   ]
  },
  {
   "cell_type": "code",
   "execution_count": null,
   "metadata": {},
   "outputs": [],
   "source": [
    "# to remove only one folder/direcotry\n",
    "# os.rmdir('main2//inside_main')\n",
    "# os.rmdir('qwer//qwert//qwerty')\n"
   ]
  },
  {
   "cell_type": "code",
   "execution_count": null,
   "metadata": {},
   "outputs": [],
   "source": [
    "# to remove directory inside directory we use :\n",
    "# os.removedirs(\"New//new2//new3\")\n",
    "# os.removedirs('qwer//qwert')\n",
    "\n",
    "os.chdir(\"d:\\\\Files\\\\python\")\n"
   ]
  },
  {
   "cell_type": "code",
   "execution_count": null,
   "metadata": {},
   "outputs": [],
   "source": []
  }
 ],
 "metadata": {
  "kernelspec": {
   "display_name": "Python 3.9.12 ('base')",
   "language": "python",
   "name": "python3"
  },
  "language_info": {
   "codemirror_mode": {
    "name": "ipython",
    "version": 3
   },
   "file_extension": ".py",
   "mimetype": "text/x-python",
   "name": "python",
   "nbconvert_exporter": "python",
   "pygments_lexer": "ipython3",
   "version": "3.9.12"
  },
  "orig_nbformat": 4,
  "vscode": {
   "interpreter": {
    "hash": "b6e548fe735f69bf72843989c318ba6727f83fec9688ffe09ea6c9c8e07cb3b2"
   }
  }
 },
 "nbformat": 4,
 "nbformat_minor": 2
}
