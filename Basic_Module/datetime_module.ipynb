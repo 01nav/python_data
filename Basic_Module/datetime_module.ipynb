{
 "cells": [
  {
   "cell_type": "code",
   "execution_count": 1,
   "metadata": {},
   "outputs": [],
   "source": [
    "import datetime"
   ]
  },
  {
   "cell_type": "code",
   "execution_count": 2,
   "metadata": {},
   "outputs": [
    {
     "data": {
      "text/plain": [
       "['__add__',\n",
       " '__class__',\n",
       " '__delattr__',\n",
       " '__dir__',\n",
       " '__doc__',\n",
       " '__eq__',\n",
       " '__format__',\n",
       " '__ge__',\n",
       " '__getattribute__',\n",
       " '__gt__',\n",
       " '__hash__',\n",
       " '__init__',\n",
       " '__init_subclass__',\n",
       " '__le__',\n",
       " '__lt__',\n",
       " '__ne__',\n",
       " '__new__',\n",
       " '__radd__',\n",
       " '__reduce__',\n",
       " '__reduce_ex__',\n",
       " '__repr__',\n",
       " '__rsub__',\n",
       " '__setattr__',\n",
       " '__sizeof__',\n",
       " '__str__',\n",
       " '__sub__',\n",
       " '__subclasshook__',\n",
       " 'astimezone',\n",
       " 'combine',\n",
       " 'ctime',\n",
       " 'date',\n",
       " 'day',\n",
       " 'dst',\n",
       " 'fold',\n",
       " 'fromisocalendar',\n",
       " 'fromisoformat',\n",
       " 'fromordinal',\n",
       " 'fromtimestamp',\n",
       " 'hour',\n",
       " 'isocalendar',\n",
       " 'isoformat',\n",
       " 'isoweekday',\n",
       " 'max',\n",
       " 'microsecond',\n",
       " 'min',\n",
       " 'minute',\n",
       " 'month',\n",
       " 'now',\n",
       " 'replace',\n",
       " 'resolution',\n",
       " 'second',\n",
       " 'strftime',\n",
       " 'strptime',\n",
       " 'time',\n",
       " 'timestamp',\n",
       " 'timetuple',\n",
       " 'timetz',\n",
       " 'today',\n",
       " 'toordinal',\n",
       " 'tzinfo',\n",
       " 'tzname',\n",
       " 'utcfromtimestamp',\n",
       " 'utcnow',\n",
       " 'utcoffset',\n",
       " 'utctimetuple',\n",
       " 'weekday',\n",
       " 'year']"
      ]
     },
     "execution_count": 2,
     "metadata": {},
     "output_type": "execute_result"
    }
   ],
   "source": [
    "dir(datetime.datetime)\n"
   ]
  },
  {
   "cell_type": "code",
   "execution_count": 3,
   "metadata": {},
   "outputs": [
    {
     "data": {
      "text/plain": [
       "datetime.datetime(2022, 7, 19, 15, 56, 58, 177409)"
      ]
     },
     "execution_count": 3,
     "metadata": {},
     "output_type": "execute_result"
    }
   ],
   "source": [
    "# return date and time\n",
    "datetime.datetime.today()\n"
   ]
  },
  {
   "cell_type": "code",
   "execution_count": 4,
   "metadata": {},
   "outputs": [
    {
     "data": {
      "text/plain": [
       "datetime.date(2022, 7, 19)"
      ]
     },
     "execution_count": 4,
     "metadata": {},
     "output_type": "execute_result"
    }
   ],
   "source": [
    "# datetime.datetime.now()\n",
    "datetime.date.today()\n"
   ]
  },
  {
   "cell_type": "code",
   "execution_count": 5,
   "metadata": {},
   "outputs": [],
   "source": [
    "d = datetime.date(2022,4,12)"
   ]
  },
  {
   "cell_type": "code",
   "execution_count": 12,
   "metadata": {},
   "outputs": [
    {
     "name": "stdout",
     "output_type": "stream",
     "text": [
      "12\n",
      "4\n",
      "2022\n"
     ]
    }
   ],
   "source": [
    "print(d.day)\n",
    "print(d.month)\n",
    "print(d.year)"
   ]
  },
  {
   "cell_type": "code",
   "execution_count": 14,
   "metadata": {},
   "outputs": [
    {
     "data": {
      "text/plain": [
       "datetime.date(2022, 4, 12)"
      ]
     },
     "execution_count": 14,
     "metadata": {},
     "output_type": "execute_result"
    }
   ],
   "source": [
    "d"
   ]
  },
  {
   "cell_type": "code",
   "execution_count": 15,
   "metadata": {},
   "outputs": [
    {
     "data": {
      "text/plain": [
       "'Tue Apr 12 00:00:00 2022'"
      ]
     },
     "execution_count": 15,
     "metadata": {},
     "output_type": "execute_result"
    }
   ],
   "source": [
    "d.ctime()"
   ]
  },
  {
   "cell_type": "code",
   "execution_count": 16,
   "metadata": {},
   "outputs": [
    {
     "name": "stdout",
     "output_type": "stream",
     "text": [
      "long date and time with digits(.now)   : 2022-07-19 15:59:57.641224\n",
      "long date and time with digits(.today) : 2022-07-19 15:59:57.641224\n",
      "date full date and time : Tue Apr 12 00:00:00 2022\n",
      "date full date and time : Tue Jul 19 00:00:00 2022\n",
      "date (month/day/year)   : 07/19/22\n",
      "date (month/day/year)   : 07/19/22\n",
      "Time (hour/min/sec)     : 15:59:57\n",
      "Day in digit       (%d) : 19\n",
      "Day in short       (%a) : Tue\n",
      "Day in long        (%A) : Tuesday\n",
      "Month in digit     (%m) : 07\n",
      "Month in short     (%b) : Jul\n",
      "Month in long      (%B) : July\n",
      "Year in 2 digit    (%y) : 22\n",
      "Year in 4 digit    (%Y) : 2022\n",
      "Hours in 24 format (%I) : 03\n",
      "Hours in 12 format (%H) : 15\n",
      "Minute in digit    (%M) : 59\n",
      "Seconds in digit   (%S) : 57\n"
     ]
    }
   ],
   "source": [
    "# strftime : this is used to format time in string.\n",
    "\n",
    "print(\"long date and time with digits(.now)   :\", datetime.datetime.now())\n",
    "print(\"long date and time with digits(.today) :\", datetime.datetime.today())\n",
    "\n",
    "print(\"date full date and time :\", d.ctime())\n",
    "print(\"date full date and time :\", d.today().ctime())  # Current date and time.\n",
    "\n",
    "print(\"date (month/day/year)   :\", datetime.datetime.now().strftime(\"%D\"))\n",
    "print(\"date (month/day/year)   :\", datetime.datetime.now().strftime(\"%x\"))\n",
    "print(\"Time (hour/min/sec)     :\", datetime.datetime.now().strftime(\"%X\"))\n",
    "\n",
    "print(\"Day in digit       (%d) :\", datetime.datetime.now().strftime(\"%d\"))\n",
    "print(\"Day in short       (%a) :\", datetime.datetime.now().strftime(\"%a\"))\n",
    "print(\"Day in long        (%A) :\", datetime.datetime.now().strftime(\"%A\"))\n",
    "\n",
    "print(\"Month in digit     (%m) :\", datetime.datetime.now().strftime(\"%m\"))\n",
    "print(\"Month in short     (%b) :\", datetime.datetime.now().strftime(\"%b\"))\n",
    "print(\"Month in long      (%B) :\", datetime.datetime.now().strftime(\"%B\"))\n",
    "\n",
    "print(\"Year in 2 digit    (%y) :\", datetime.datetime.now().strftime(\"%y\"))\n",
    "print(\"Year in 4 digit    (%Y) :\", datetime.datetime.now().strftime(\"%Y\"))\n",
    "\n",
    "print(\"Hours in 24 format (%I) :\", datetime.datetime.now().strftime(\"%I\"))\n",
    "print(\"Hours in 12 format (%H) :\", datetime.datetime.now().strftime(\"%H\"))\n",
    "print(\"Minute in digit    (%M) :\", datetime.datetime.now().strftime(\"%M\"))\n",
    "print(\"Seconds in digit   (%S) :\", datetime.datetime.now().strftime(\"%S\"))\n"
   ]
  },
  {
   "cell_type": "code",
   "execution_count": null,
   "metadata": {},
   "outputs": [],
   "source": []
  }
 ],
 "metadata": {
  "kernelspec": {
   "display_name": "Python 3.9.12 ('base')",
   "language": "python",
   "name": "python3"
  },
  "language_info": {
   "codemirror_mode": {
    "name": "ipython",
    "version": 3
   },
   "file_extension": ".py",
   "mimetype": "text/x-python",
   "name": "python",
   "nbconvert_exporter": "python",
   "pygments_lexer": "ipython3",
   "version": "3.9.12"
  },
  "orig_nbformat": 4,
  "vscode": {
   "interpreter": {
    "hash": "b6e548fe735f69bf72843989c318ba6727f83fec9688ffe09ea6c9c8e07cb3b2"
   }
  }
 },
 "nbformat": 4,
 "nbformat_minor": 2
}
