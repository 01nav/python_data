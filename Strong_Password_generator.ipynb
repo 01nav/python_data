{
 "cells": [
  {
   "cell_type": "code",
   "execution_count": 2,
   "id": "a566fbba",
   "metadata": {},
   "outputs": [],
   "source": [
    "import random"
   ]
  },
  {
   "cell_type": "code",
   "execution_count": 3,
   "id": "8089fad9",
   "metadata": {
    "scrolled": false
   },
   "outputs": [
    {
     "data": {
      "text/plain": [
       "['BPF',\n",
       " 'LOG4',\n",
       " 'NV_MAGICCONST',\n",
       " 'RECIP_BPF',\n",
       " 'Random',\n",
       " 'SG_MAGICCONST',\n",
       " 'SystemRandom',\n",
       " 'TWOPI',\n",
       " '_Sequence',\n",
       " '_Set',\n",
       " '__all__',\n",
       " '__builtins__',\n",
       " '__cached__',\n",
       " '__doc__',\n",
       " '__file__',\n",
       " '__loader__',\n",
       " '__name__',\n",
       " '__package__',\n",
       " '__spec__',\n",
       " '_accumulate',\n",
       " '_acos',\n",
       " '_bisect',\n",
       " '_ceil',\n",
       " '_cos',\n",
       " '_e',\n",
       " '_exp',\n",
       " '_floor',\n",
       " '_inst',\n",
       " '_log',\n",
       " '_os',\n",
       " '_pi',\n",
       " '_random',\n",
       " '_repeat',\n",
       " '_sha512',\n",
       " '_sin',\n",
       " '_sqrt',\n",
       " '_test',\n",
       " '_test_generator',\n",
       " '_urandom',\n",
       " '_warn',\n",
       " 'betavariate',\n",
       " 'choice',\n",
       " 'choices',\n",
       " 'expovariate',\n",
       " 'gammavariate',\n",
       " 'gauss',\n",
       " 'getrandbits',\n",
       " 'getstate',\n",
       " 'lognormvariate',\n",
       " 'normalvariate',\n",
       " 'paretovariate',\n",
       " 'randbytes',\n",
       " 'randint',\n",
       " 'random',\n",
       " 'randrange',\n",
       " 'sample',\n",
       " 'seed',\n",
       " 'setstate',\n",
       " 'shuffle',\n",
       " 'triangular',\n",
       " 'uniform',\n",
       " 'vonmisesvariate',\n",
       " 'weibullvariate']"
      ]
     },
     "execution_count": 3,
     "metadata": {},
     "output_type": "execute_result"
    }
   ],
   "source": [
    "dir(random)"
   ]
  },
  {
   "cell_type": "code",
   "execution_count": 4,
   "id": "6ad2e2f9",
   "metadata": {},
   "outputs": [],
   "source": [
    "# random special character by using list, append all the data through function by using loop. \n",
    "\n",
    "# special_ch_list = []\n",
    "\n",
    "# def append_data(list,s_range,e_range):\n",
    "#     for i in range(s_range,e_range):\n",
    "#         list.append(chr(i))\n",
    "#     return\n",
    "    \n",
    "# append_data(special_ch_list,33,48)\n",
    "# append_data(special_ch_list,58,65)\n",
    "# append_data(special_ch_list,91,96)\n",
    "# append_data(special_ch_list,123,12)\n",
    "\n",
    "# random special character by manual method using chr and randint method\n",
    "rand_special1 = chr(random.randint(ord('!'),ord('/')))\n",
    "rand_special2 = chr(random.randint(ord(':'),ord('@')))\n",
    "rand_special3 = chr(random.randint(ord('['),ord('`')))\n",
    "rand_special4 = chr(random.randint(ord('{'),ord('~')))\n",
    "\n",
    "# random.choice(special_ch_list)\n"
   ]
  },
  {
   "cell_type": "code",
   "execution_count": 5,
   "id": "f627b883",
   "metadata": {},
   "outputs": [],
   "source": [
    "# special_ch_list[random.randrange(0,len(special_ch_list))]"
   ]
  },
  {
   "cell_type": "code",
   "execution_count": 85,
   "id": "226961b2",
   "metadata": {},
   "outputs": [
    {
     "name": "stdout",
     "output_type": "stream",
     "text": [
      "9%H=b_9|\n"
     ]
    }
   ],
   "source": [
    "rand_alpha = chr(random.randint(ord('A'),ord('Z')))\n",
    "rand_alpha2 = chr(random.randint(ord('a'),ord('b')))\n",
    "rand_num = str(random.randint(1,9))\n",
    "rand_num2 = str(random.randint(1,9))\n",
    "rand_spec1 = chr(random.randint(ord('!'),ord('/')))\n",
    "rand_spec2 = chr(random.randint(ord(':'),ord('@')))\n",
    "rand_spec3 = chr(random.randint(ord('['),ord('`')))\n",
    "rand_spec4 = chr(random.randint(ord('{'),ord('~')))\n",
    "\n",
    "print(rand_num + rand_spec1 + rand_alpha + rand_spec2 + rand_alpha2 + rand_spec3 + rand_num2 + rand_spec4)"
   ]
  },
  {
   "cell_type": "code",
   "execution_count": null,
   "id": "5774883a",
   "metadata": {},
   "outputs": [],
   "source": []
  }
 ],
 "metadata": {
  "kernelspec": {
   "display_name": "Python 3.9.12 ('base')",
   "language": "python",
   "name": "python3"
  },
  "language_info": {
   "codemirror_mode": {
    "name": "ipython",
    "version": 3
   },
   "file_extension": ".py",
   "mimetype": "text/x-python",
   "name": "python",
   "nbconvert_exporter": "python",
   "pygments_lexer": "ipython3",
   "version": "3.9.12"
  },
  "vscode": {
   "interpreter": {
    "hash": "b6e548fe735f69bf72843989c318ba6727f83fec9688ffe09ea6c9c8e07cb3b2"
   }
  }
 },
 "nbformat": 4,
 "nbformat_minor": 5
}
