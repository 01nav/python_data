{
 "cells": [
  {
   "cell_type": "code",
   "execution_count": 2,
   "id": "b2a5cc9c-7da5-4974-8adb-f67103d33941",
   "metadata": {},
   "outputs": [],
   "source": [
    "import sqlite3 as mydb\n",
    "db = mydb.connect(\"python_database.db\")\n",
    "cmd = \"create table users(acc_num int primary key ,acc_name varchar(300) ,acc_pin int , acc_balance int, acc_trans text)\"\n",
    "cursor = db.cursor()\n",
    "cursor.execute(cmd)\n",
    "db.commit()\n",
    "# db.close()"
   ]
  },
  {
   "cell_type": "code",
   "execution_count": null,
   "id": "3dc0e8ac-0ee1-4a27-8f5d-d27bd5a09488",
   "metadata": {},
   "outputs": [],
   "source": []
  }
 ],
 "metadata": {
  "kernelspec": {
   "display_name": "Python 3 (ipykernel)",
   "language": "python",
   "name": "python3"
  },
  "language_info": {
   "codemirror_mode": {
    "name": "ipython",
    "version": 3
   },
   "file_extension": ".py",
   "mimetype": "text/x-python",
   "name": "python",
   "nbconvert_exporter": "python",
   "pygments_lexer": "ipython3",
   "version": "3.9.12"
  }
 },
 "nbformat": 4,
 "nbformat_minor": 5
}
